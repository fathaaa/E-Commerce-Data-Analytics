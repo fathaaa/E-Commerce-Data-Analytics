{
  "cells": [
    {
      "cell_type": "markdown",
      "metadata": {
        "id": "H9wADwK78DCz"
      },
      "source": [
        "# Proyek Analisis Data: [Input Nama Dataset]\n",
        "- **Nama:** Fatha Ariya Prasetya\n",
        "- **Email:** fathaap@gmail.com\n",
        "- **ID Dicoding:**"
      ]
    },
    {
      "cell_type": "markdown",
      "metadata": {
        "id": "eE0raob58DC0"
      },
      "source": [
        "## Menentukan Pertanyaan Bisnis"
      ]
    },
    {
      "cell_type": "markdown",
      "metadata": {
        "id": "GmQeQ5YF8DC0"
      },
      "source": [
        "- Question 1 : [Customer Segment Analysis] What is the level of customer satisfaction with the distribution of sellers?\n",
        "- Question 2 : [Sales Efficiency Analysis] What has been the sales trend in the last few months?\n",
        "- Question 3: [Sales Efficiency Analysis] What is the average revenue on product sales in each region? What is the most sold product in the top 3 regions?"
      ]
    },
    {
      "cell_type": "markdown",
      "metadata": {
        "id": "H-z4QGlO8DC1"
      },
      "source": [
        "## Import Semua Packages/Library yang Digunakan"
      ]
    },
    {
      "cell_type": "code",
      "execution_count": 1,
      "metadata": {
        "id": "FVYwaObI8DC1"
      },
      "outputs": [],
      "source": [
        "import numpy as np\n",
        "import pandas as pd\n",
        "import matplotlib.pyplot as plt\n",
        "import seaborn as sns\n",
        "import streamlit as st"
      ]
    },
    {
      "cell_type": "markdown",
      "metadata": {
        "id": "h_Sh51Xy8DC1"
      },
      "source": [
        "## Data Wrangling"
      ]
    },
    {
      "cell_type": "markdown",
      "metadata": {
        "id": "sXU2GBYu8DC1"
      },
      "source": [
        "### Gathering Data"
      ]
    },
    {
      "cell_type": "code",
      "execution_count": 2,
      "metadata": {
        "id": "zjCBk1BI8DC1"
      },
      "outputs": [],
      "source": [
        "#Read all data from csv\n",
        "customers_df = pd.read_csv('customers_dataset.csv')\n",
        "geolocationdf = pd.read_csv('geolocation_dataset.csv')\n",
        "itemorder_df = pd.read_csv('order_items_dataset.csv')\n",
        "paymentorder_df = pd.read_csv('order_payments_dataset.csv')\n",
        "reviewsorder_df = pd.read_csv('order_reviews_dataset.csv')\n",
        "datasetorder_df = pd.read_csv('orders_dataset.csv')\n",
        "categoryproduct_df = pd.read_csv('product_category_name_translation.csv')\n",
        "datasetproduct_df = pd.read_csv('products_dataset.csv')\n",
        "sellers_df = pd.read_csv('sellers_dataset.csv')"
      ]
    },
    {
      "cell_type": "markdown",
      "metadata": {
        "id": "OfLSNOqgMrRv"
      },
      "source": [
        "#### Question 1"
      ]
    },
    {
      "cell_type": "code",
      "execution_count": 3,
      "metadata": {
        "id": "tHMEFnPpMrRw"
      },
      "outputs": [],
      "source": [
        "itemreviews = pd.merge(\n",
        "    left= reviewsorder_df,\n",
        "    right=itemorder_df,\n",
        "    how=\"inner\",\n",
        "    left_on= \"order_id\",\n",
        "    right_on= \"order_id\"\n",
        ")\n",
        "\n",
        "itemreviews_seller = pd.merge(\n",
        "    left=itemreviews,\n",
        "    right=sellers_df,\n",
        "    how=\"inner\",\n",
        "    left_on=\"seller_id\",\n",
        "    right_on=\"seller_id\"\n",
        ")"
      ]
    },
    {
      "cell_type": "markdown",
      "metadata": {
        "id": "d57FVzQ1MrRx"
      },
      "source": [
        "#### Question 2"
      ]
    },
    {
      "cell_type": "code",
      "execution_count": 4,
      "metadata": {
        "id": "8WKd-nynMrRy"
      },
      "outputs": [],
      "source": [
        "#Joining table between orders_dataset and customers_id\n",
        "order_and_customer = pd.merge(\n",
        "    left= datasetorder_df,\n",
        "    right= customers_df,\n",
        "    how=\"inner\",\n",
        "    left_on=\"customer_id\",\n",
        "    right_on=\"customer_id\"\n",
        "\n",
        ")\n"
      ]
    },
    {
      "cell_type": "markdown",
      "metadata": {
        "id": "qya_kA5vLEu_"
      },
      "source": [
        "#### Question 3"
      ]
    },
    {
      "cell_type": "code",
      "execution_count": 5,
      "metadata": {
        "id": "gOdHYuSWLHyw"
      },
      "outputs": [],
      "source": [
        "#Joining table between orders_dataset and order_item\n",
        "orderitem_full  = pd.merge(\n",
        "    left= datasetorder_df,\n",
        "    right= itemorder_df,\n",
        "    how=\"inner\",\n",
        "    left_on=\"order_id\",\n",
        "    right_on=\"order_id\"\n",
        ")\n",
        "#Joining table orderitem_full and product_dataset\n",
        "order_product_last = pd.merge(\n",
        "    left= orderitem_full,\n",
        "    right= datasetproduct_df,\n",
        "    how=\"inner\",\n",
        "    left_on=\"product_id\",\n",
        "    right_on=\"product_id\"\n",
        ")\n",
        "#Joining table order_product and custoers_dataset\n",
        "order_product = pd.merge(\n",
        "    left= order_product_last,\n",
        "    right= customers_df,\n",
        "    how=\"inner\",\n",
        "    left_on=\"customer_id\",\n",
        "    right_on=\"customer_id\"\n",
        ")"
      ]
    },
    {
      "cell_type": "markdown",
      "metadata": {
        "id": "FHSiqaZp8DC1"
      },
      "source": [
        "### Assessing Data"
      ]
    },
    {
      "cell_type": "markdown",
      "metadata": {
        "id": "Hx8VWhqyMrR1"
      },
      "source": [
        "#### Question 1"
      ]
    },
    {
      "cell_type": "code",
      "execution_count": 6,
      "metadata": {
        "colab": {
          "base_uri": "https://localhost:8080/"
        },
        "id": "bvQrMcGlMrR1",
        "outputId": "8f0e8a90-9ac4-4e62-8f06-adc07326ca06"
      },
      "outputs": [
        {
          "name": "stdout",
          "output_type": "stream",
          "text": [
            "<class 'pandas.core.frame.DataFrame'>\n",
            "RangeIndex: 112372 entries, 0 to 112371\n",
            "Data columns (total 16 columns):\n",
            " #   Column                   Non-Null Count   Dtype  \n",
            "---  ------                   --------------   -----  \n",
            " 0   review_id                112372 non-null  object \n",
            " 1   order_id                 112372 non-null  object \n",
            " 2   review_score             112372 non-null  int64  \n",
            " 3   review_comment_title     13434 non-null   object \n",
            " 4   review_comment_message   47642 non-null   object \n",
            " 5   review_creation_date     112372 non-null  object \n",
            " 6   review_answer_timestamp  112372 non-null  object \n",
            " 7   order_item_id            112372 non-null  int64  \n",
            " 8   product_id               112372 non-null  object \n",
            " 9   seller_id                112372 non-null  object \n",
            " 10  shipping_limit_date      112372 non-null  object \n",
            " 11  price                    112372 non-null  float64\n",
            " 12  freight_value            112372 non-null  float64\n",
            " 13  seller_zip_code_prefix   112372 non-null  int64  \n",
            " 14  seller_city              112372 non-null  object \n",
            " 15  seller_state             112372 non-null  object \n",
            "dtypes: float64(2), int64(3), object(11)\n",
            "memory usage: 13.7+ MB\n",
            "None\n",
            "=========================\n",
            "review_id                      0\n",
            "order_id                       0\n",
            "review_score                   0\n",
            "review_comment_title       98938\n",
            "review_comment_message     64730\n",
            "review_creation_date           0\n",
            "review_answer_timestamp        0\n",
            "order_item_id                  0\n",
            "product_id                     0\n",
            "seller_id                      0\n",
            "shipping_limit_date            0\n",
            "price                          0\n",
            "freight_value                  0\n",
            "seller_zip_code_prefix         0\n",
            "seller_city                    0\n",
            "seller_state                   0\n",
            "dtype: int64\n"
          ]
        }
      ],
      "source": [
        "#Check if any NULL data\n",
        "print(itemreviews_seller.info())\n",
        "print(\"=========================\")\n",
        "print(itemreviews_seller.isnull().sum())"
      ]
    },
    {
      "cell_type": "markdown",
      "metadata": {
        "id": "nVoM5tHZMrR3"
      },
      "source": [
        "Because we only need review_score as a determinant of the level of satisfaction, the NULL data on comment tittle and comment message is ignored"
      ]
    },
    {
      "cell_type": "code",
      "execution_count": 7,
      "metadata": {
        "colab": {
          "base_uri": "https://localhost:8080/"
        },
        "id": "RqVO8uRcMrR3",
        "outputId": "1bf8f3fc-2543-48e1-82fa-284fcb4e7bdd"
      },
      "outputs": [
        {
          "name": "stdout",
          "output_type": "stream",
          "text": [
            "Duplicated data: 0\n"
          ]
        }
      ],
      "source": [
        "#check if any duplicated data\n",
        "print(f\"Duplicated data: {itemreviews_seller.duplicated().sum()}\")"
      ]
    },
    {
      "cell_type": "markdown",
      "metadata": {
        "id": "STW9dkECMrR4"
      },
      "source": [
        "Because there is no duplicated data, then we can proceed to the next stage"
      ]
    },
    {
      "cell_type": "markdown",
      "metadata": {
        "id": "KpgxHo2xMrR5"
      },
      "source": [
        "#### Question 2"
      ]
    },
    {
      "cell_type": "markdown",
      "metadata": {
        "id": "Bgn53zX1mfME"
      },
      "source": [
        "Check data type and data Null"
      ]
    },
    {
      "cell_type": "code",
      "execution_count": 8,
      "metadata": {
        "colab": {
          "base_uri": "https://localhost:8080/"
        },
        "id": "FDrBO5l4MrR5",
        "outputId": "c15843d3-193d-41f7-a5d5-16ebe25ec780"
      },
      "outputs": [
        {
          "name": "stdout",
          "output_type": "stream",
          "text": [
            "<class 'pandas.core.frame.DataFrame'>\n",
            "RangeIndex: 99441 entries, 0 to 99440\n",
            "Data columns (total 12 columns):\n",
            " #   Column                         Non-Null Count  Dtype\n",
            "---  ------                         --------------  -----\n",
            " 0   order_id                       99441 non-null  bool \n",
            " 1   customer_id                    99441 non-null  bool \n",
            " 2   order_status                   99441 non-null  bool \n",
            " 3   order_purchase_timestamp       99441 non-null  bool \n",
            " 4   order_approved_at              99441 non-null  bool \n",
            " 5   order_delivered_carrier_date   99441 non-null  bool \n",
            " 6   order_delivered_customer_date  99441 non-null  bool \n",
            " 7   order_estimated_delivery_date  99441 non-null  bool \n",
            " 8   customer_unique_id             99441 non-null  bool \n",
            " 9   customer_zip_code_prefix       99441 non-null  bool \n",
            " 10  customer_city                  99441 non-null  bool \n",
            " 11  customer_state                 99441 non-null  bool \n",
            "dtypes: bool(12)\n",
            "memory usage: 1.1 MB\n",
            "None\n",
            "===========================================================\n",
            "order_id                            0\n",
            "customer_id                         0\n",
            "order_status                        0\n",
            "order_purchase_timestamp            0\n",
            "order_approved_at                 160\n",
            "order_delivered_carrier_date     1783\n",
            "order_delivered_customer_date    2965\n",
            "order_estimated_delivery_date       0\n",
            "customer_unique_id                  0\n",
            "customer_zip_code_prefix            0\n",
            "customer_city                       0\n",
            "customer_state                      0\n",
            "dtype: int64\n"
          ]
        }
      ],
      "source": [
        "#check data type\n",
        "print(order_and_customer.isna().info())\n",
        "print(\"===========================================================\")\n",
        "#check if any NULL data\n",
        "print(order_and_customer.isnull().sum())"
      ]
    },
    {
      "cell_type": "markdown",
      "metadata": {
        "id": "9Vz7OuyImk0A"
      },
      "source": [
        "Check why data can be NULL"
      ]
    },
    {
      "cell_type": "code",
      "execution_count": 9,
      "metadata": {
        "id": "ax-3tEjc9Cj1"
      },
      "outputs": [
        {
          "name": "stdout",
          "output_type": "stream",
          "text": [
            "                               order_id                       customer_id  \\\n",
            "6      136cce7faa42fdb2cefd53fdc79a6098  ed0271e0b7da060a393796590e7b737a   \n",
            "44     ee64d42b8cf066f35eac1cf57de1aa85  caded193e8e47b8362864762a83db3c5   \n",
            "103    0760a852e4e9d89eb77bf631eaaf1c84  d2a79636084590b7465af8ab374a8cf5   \n",
            "128    15bed8e2fec7fdbadb186b57c46c92f2  f3f0e613e0bdb9c7cee75504f0f90679   \n",
            "154    6942b8da583c2f9957e990d028607019  52006a9383bf149a4fb24226b173106f   \n",
            "...                                 ...                               ...   \n",
            "99283  3a3cddda5a7c27851bd96c3313412840  0b0d6095c5555fe083844281f6b093bb   \n",
            "99313  e9e64a17afa9653aacf2616d94c005b8  b4cd0522e632e481f8eaf766a2646e86   \n",
            "99347  a89abace0dcc01eeb267a9660b5ac126  2f0524a7b1b3845a1a57fcf3910c4333   \n",
            "99348  a69ba794cc7deb415c3e15a0a3877e69  726f0894b5becdf952ea537d5266e543   \n",
            "99415  5fabc81b6322c8443648e1b21a6fef21  32c9df889d41b0ee8309a5efb6855dcb   \n",
            "\n",
            "      order_status order_purchase_timestamp    order_approved_at  \\\n",
            "6         invoiced      2017-04-11 12:22:08  2017-04-13 13:25:17   \n",
            "44         shipped      2018-06-04 16:44:48  2018-06-05 04:31:18   \n",
            "103       invoiced      2018-08-03 17:44:42  2018-08-07 06:15:14   \n",
            "128     processing      2017-09-03 14:22:03  2017-09-03 14:30:09   \n",
            "154        shipped      2018-01-10 11:33:07  2018-01-11 02:32:30   \n",
            "...            ...                      ...                  ...   \n",
            "99283     canceled      2018-08-31 16:13:44                  NaN   \n",
            "99313   processing      2018-01-05 23:07:24  2018-01-09 07:18:05   \n",
            "99347     canceled      2018-09-06 18:45:47                  NaN   \n",
            "99348  unavailable      2017-08-23 16:28:04  2017-08-28 15:44:47   \n",
            "99415  unavailable      2017-10-10 10:50:03  2017-10-14 18:35:57   \n",
            "\n",
            "      order_delivered_carrier_date order_delivered_customer_date  \\\n",
            "6                              NaN                           NaN   \n",
            "44             2018-06-05 14:32:00                           NaN   \n",
            "103                            NaN                           NaN   \n",
            "128                            NaN                           NaN   \n",
            "154            2018-01-11 19:39:23                           NaN   \n",
            "...                            ...                           ...   \n",
            "99283                          NaN                           NaN   \n",
            "99313                          NaN                           NaN   \n",
            "99347                          NaN                           NaN   \n",
            "99348                          NaN                           NaN   \n",
            "99415                          NaN                           NaN   \n",
            "\n",
            "      order_estimated_delivery_date                customer_unique_id  \\\n",
            "6               2017-05-09 00:00:00  36edbb3fb164b1f16485364b6fb04c73   \n",
            "44              2018-06-28 00:00:00  08fb46d35bb3ab4037202c23592d1259   \n",
            "103             2018-08-21 00:00:00  c7f8d7b1fffc946d7069574f74c39f4e   \n",
            "128             2017-10-03 00:00:00  9f269af9c49244f6ba4a46985a3cfc2e   \n",
            "154             2018-02-07 00:00:00  528b011eb7fab3d59c336cc7248eed3a   \n",
            "...                             ...                               ...   \n",
            "99283           2018-10-01 00:00:00  e90598185d2427a35e32ef241a5c04aa   \n",
            "99313           2018-02-06 00:00:00  965191786b70912f793e4a777fd623cd   \n",
            "99347           2018-09-27 00:00:00  d05c44a138277ad325d915c6b7ccbcdf   \n",
            "99348           2017-09-15 00:00:00  e72a90a2b29fe1a8795b284aaaa3246f   \n",
            "99415           2017-10-23 00:00:00  393d95c05b04db26ac084374094b3a52   \n",
            "\n",
            "       customer_zip_code_prefix              customer_city customer_state  \n",
            "6                         98900                 santa rosa             RS  \n",
            "44                        13215                    jundiai             SP  \n",
            "103                       88140  santo amaro da imperatriz             SC  \n",
            "128                        3436                  sao paulo             SP  \n",
            "154                       38600                   paracatu             MG  \n",
            "...                         ...                        ...            ...  \n",
            "99283                     11075                     santos             SP  \n",
            "99313                     13050                   campinas             SP  \n",
            "99347                      5344                  sao paulo             SP  \n",
            "99348                     22723             rio de janeiro             RJ  \n",
            "99415                     18040                   sorocaba             SP  \n",
            "\n",
            "[2980 rows x 12 columns]\n"
          ]
        }
      ],
      "source": [
        "#check how data can be NULL\n",
        "order_and_customer_check= pd.DataFrame(order_and_customer)\n",
        "\n",
        "# show row with NULL value\n",
        "null_rows = order_and_customer_check[order_and_customer_check.isnull().any(axis=1)]\n",
        "print(null_rows)"
      ]
    },
    {
      "cell_type": "markdown",
      "metadata": {
        "id": "yissQolLm8eI"
      },
      "source": [
        "Because Null data are filled by \"NaN\", we can drop it. Because we want data that has been sent (has a date that has been delivered and has a delivered status)\n",
        "\n",
        "After that, check if any duplicated data"
      ]
    },
    {
      "cell_type": "code",
      "execution_count": 10,
      "metadata": {
        "colab": {
          "base_uri": "https://localhost:8080/"
        },
        "id": "redlIF5EMrR6",
        "outputId": "a1ddc06f-4f28-4f8f-b32b-61df0d078d02"
      },
      "outputs": [
        {
          "name": "stdout",
          "output_type": "stream",
          "text": [
            "Duplicated data: 0\n"
          ]
        }
      ],
      "source": [
        "print(f\"Duplicated data: {order_and_customer.duplicated().sum()}\")"
      ]
    },
    {
      "cell_type": "markdown",
      "metadata": {
        "id": "GuZ38j-4o7Kq"
      },
      "source": [
        "There is no duplicated data"
      ]
    },
    {
      "cell_type": "markdown",
      "metadata": {
        "id": "A9YV-1o-OYky"
      },
      "source": [
        "#### Question 3"
      ]
    },
    {
      "cell_type": "code",
      "execution_count": 11,
      "metadata": {
        "colab": {
          "base_uri": "https://localhost:8080/"
        },
        "id": "QPSj5q1COcA1",
        "outputId": "60210459-725f-482a-8aa9-a6b3d95e3e90"
      },
      "outputs": [
        {
          "name": "stdout",
          "output_type": "stream",
          "text": [
            "<class 'pandas.core.frame.DataFrame'>\n",
            "RangeIndex: 112650 entries, 0 to 112649\n",
            "Data columns (total 26 columns):\n",
            " #   Column                         Non-Null Count   Dtype\n",
            "---  ------                         --------------   -----\n",
            " 0   order_id                       112650 non-null  bool \n",
            " 1   customer_id                    112650 non-null  bool \n",
            " 2   order_status                   112650 non-null  bool \n",
            " 3   order_purchase_timestamp       112650 non-null  bool \n",
            " 4   order_approved_at              112650 non-null  bool \n",
            " 5   order_delivered_carrier_date   112650 non-null  bool \n",
            " 6   order_delivered_customer_date  112650 non-null  bool \n",
            " 7   order_estimated_delivery_date  112650 non-null  bool \n",
            " 8   order_item_id                  112650 non-null  bool \n",
            " 9   product_id                     112650 non-null  bool \n",
            " 10  seller_id                      112650 non-null  bool \n",
            " 11  shipping_limit_date            112650 non-null  bool \n",
            " 12  price                          112650 non-null  bool \n",
            " 13  freight_value                  112650 non-null  bool \n",
            " 14  product_category_name          112650 non-null  bool \n",
            " 15  product_name_lenght            112650 non-null  bool \n",
            " 16  product_description_lenght     112650 non-null  bool \n",
            " 17  product_photos_qty             112650 non-null  bool \n",
            " 18  product_weight_g               112650 non-null  bool \n",
            " 19  product_length_cm              112650 non-null  bool \n",
            " 20  product_height_cm              112650 non-null  bool \n",
            " 21  product_width_cm               112650 non-null  bool \n",
            " 22  customer_unique_id             112650 non-null  bool \n",
            " 23  customer_zip_code_prefix       112650 non-null  bool \n",
            " 24  customer_city                  112650 non-null  bool \n",
            " 25  customer_state                 112650 non-null  bool \n",
            "dtypes: bool(26)\n",
            "memory usage: 2.8 MB\n",
            "None\n",
            "===========================================================\n",
            "order_id                            0\n",
            "customer_id                         0\n",
            "order_status                        0\n",
            "order_purchase_timestamp            0\n",
            "order_approved_at                  15\n",
            "order_delivered_carrier_date     1194\n",
            "order_delivered_customer_date    2454\n",
            "order_estimated_delivery_date       0\n",
            "order_item_id                       0\n",
            "product_id                          0\n",
            "seller_id                           0\n",
            "shipping_limit_date                 0\n",
            "price                               0\n",
            "freight_value                       0\n",
            "product_category_name            1603\n",
            "product_name_lenght              1603\n",
            "product_description_lenght       1603\n",
            "product_photos_qty               1603\n",
            "product_weight_g                   18\n",
            "product_length_cm                  18\n",
            "product_height_cm                  18\n",
            "product_width_cm                   18\n",
            "customer_unique_id                  0\n",
            "customer_zip_code_prefix            0\n",
            "customer_city                       0\n",
            "customer_state                      0\n",
            "dtype: int64\n"
          ]
        }
      ],
      "source": [
        "#check data type\n",
        "print(order_product.isna().info())\n",
        "print(\"===========================================================\")\n",
        "#check if any NULL data\n",
        "print(order_product.isnull().sum())"
      ]
    },
    {
      "cell_type": "code",
      "execution_count": 12,
      "metadata": {
        "colab": {
          "base_uri": "https://localhost:8080/"
        },
        "id": "MeAKoZgBQNNm",
        "outputId": "93dbf1a0-e0bb-44b7-fbc8-ac3eb71fa7ec"
      },
      "outputs": [
        {
          "name": "stdout",
          "output_type": "stream",
          "text": [
            "                                order_id                       customer_id  \\\n",
            "98      3a53d5a9a0c58d291ff3ae407b6df5fd  5612aa60cdbbd8e9d89ae0c409080375   \n",
            "103     72c501775cf36e99076132aaee5ae9c0  6cc8f025e1b94225a79f478d3bcba65c   \n",
            "192     136cce7faa42fdb2cefd53fdc79a6098  ed0271e0b7da060a393796590e7b737a   \n",
            "193     9c9504bb506aa1635fb6ad19be9bcfa9  5638c42751e237d265ad0c0536256311   \n",
            "265     ae86dbc1549b4c0cb00dc0ea909fc6d2  2748df3a97f1a8f54195312846fe7917   \n",
            "...                                  ...                               ...   \n",
            "112525  5a8a4dc28b16fb90469ad749f9535773  c0c8b8bb055100a0cc08dcc04d847ac9   \n",
            "112529  b159d0ce7cd881052da94fa165617b05  e0c3bc5ce0836b975d6b2a8ce7bb0e3e   \n",
            "112542  021dac6e3120485db6a77474aa21b979  c40f7f00e91eb8a0da1e58484380a796   \n",
            "112596  aea0db338150b526dde24f6fd953a5ed  379a02efdc6a56bd27f99b95fc2f6c06   \n",
            "112605  e33865519137f5737444109ae8438633  64b086bdcc54458af3ea3bd838db54a5   \n",
            "\n",
            "       order_status order_purchase_timestamp    order_approved_at  \\\n",
            "98          shipped      2018-02-16 21:55:03  2018-02-17 01:26:58   \n",
            "103         shipped      2017-12-01 12:39:39  2017-12-02 02:37:10   \n",
            "192        invoiced      2017-04-11 12:22:08  2017-04-13 13:25:17   \n",
            "193       delivered      2017-09-06 00:33:14  2017-09-08 07:03:44   \n",
            "265         shipped      2017-06-24 00:58:39  2017-06-24 01:05:08   \n",
            "...             ...                      ...                  ...   \n",
            "112525     canceled      2018-03-13 10:58:09  2018-03-14 03:08:35   \n",
            "112529     canceled      2017-03-11 19:51:36  2017-03-11 19:51:36   \n",
            "112542     invoiced      2017-11-24 22:46:09  2017-11-25 01:53:42   \n",
            "112596   processing      2017-12-26 21:56:13  2017-12-26 22:05:26   \n",
            "112605    delivered      2018-05-28 00:44:06  2018-05-29 03:31:17   \n",
            "\n",
            "       order_delivered_carrier_date order_delivered_customer_date  \\\n",
            "98              2018-02-19 16:14:14                           NaN   \n",
            "103             2017-12-04 20:39:56                           NaN   \n",
            "192                             NaN                           NaN   \n",
            "193             2017-09-13 19:52:19           2017-09-14 16:58:54   \n",
            "265             2017-06-26 15:23:24                           NaN   \n",
            "...                             ...                           ...   \n",
            "112525                          NaN                           NaN   \n",
            "112529                          NaN                           NaN   \n",
            "112542                          NaN                           NaN   \n",
            "112596                          NaN                           NaN   \n",
            "112605          2018-05-30 13:13:00           2018-06-01 22:25:39   \n",
            "\n",
            "       order_estimated_delivery_date  order_item_id  \\\n",
            "98               2018-03-14 00:00:00              1   \n",
            "103              2017-12-19 00:00:00              1   \n",
            "192              2017-05-09 00:00:00              1   \n",
            "193              2017-09-19 00:00:00              1   \n",
            "265              2017-07-20 00:00:00              1   \n",
            "...                              ...            ...   \n",
            "112525           2018-03-23 00:00:00              2   \n",
            "112529           2017-03-30 00:00:00              1   \n",
            "112542           2017-12-15 00:00:00              1   \n",
            "112596           2018-01-26 00:00:00              1   \n",
            "112605           2018-06-20 00:00:00              1   \n",
            "\n",
            "                              product_id  ... product_description_lenght  \\\n",
            "98      595fac2a385ac33a80bd5114aec74eb8  ...                      178.0   \n",
            "103     595fac2a385ac33a80bd5114aec74eb8  ...                      178.0   \n",
            "192     a1804276d9941ac0733cfd409f5206eb  ...                        NaN   \n",
            "193     a1804276d9941ac0733cfd409f5206eb  ...                        NaN   \n",
            "265     08574b074924071f4e201e151b152b4e  ...                      450.0   \n",
            "...                                  ...  ...                        ...   \n",
            "112525  33ac889bc3af4ddede9c14fc789a3743  ...                      682.0   \n",
            "112529  241a1ffc9cf969b27de6e72301020268  ...                      260.0   \n",
            "112542  7535f3518e1009b17aa6e3fa553e82bc  ...                     1100.0   \n",
            "112596  aa428a8e4d587520f90d37a08030a812  ...                      208.0   \n",
            "112605  e9cbc0910ab050cbd92fbeb051c270ea  ...                        NaN   \n",
            "\n",
            "       product_photos_qty  product_weight_g  product_length_cm  \\\n",
            "98                    1.0             400.0               19.0   \n",
            "103                   1.0             400.0               19.0   \n",
            "192                   NaN             600.0               35.0   \n",
            "193                   NaN             600.0               35.0   \n",
            "265                   1.0            9000.0               42.0   \n",
            "...                   ...               ...                ...   \n",
            "112525                1.0            1700.0               30.0   \n",
            "112529                2.0             400.0               16.0   \n",
            "112542                3.0           15400.0              105.0   \n",
            "112596                2.0            1700.0               50.0   \n",
            "112605                NaN             600.0               32.0   \n",
            "\n",
            "       product_height_cm  product_width_cm                customer_unique_id  \\\n",
            "98                  13.0              19.0  43ffa7da9e5e738684a2d571602b5bc5   \n",
            "103                 13.0              19.0  9f0628912b8102be6ef4638d0753addf   \n",
            "192                 35.0              15.0  36edbb3fb164b1f16485364b6fb04c73   \n",
            "193                 35.0              15.0  f7e0fe56fc317ded1c63a772a48d0159   \n",
            "265                 12.0              39.0  1c7a472b0cadf146922d61c04276e55c   \n",
            "...                  ...               ...                               ...   \n",
            "112525               5.0              30.0  82ec5f749b66f1857e868b6414a67ab3   \n",
            "112529               4.0              11.0  78a159045124eb7601951b917a42034f   \n",
            "112542              48.0              18.0  5e107141755c25a665b011009bc254b9   \n",
            "112596              40.0              16.0  43fb4e33ebe4ac765e99c7b57e5d6940   \n",
            "112605              15.0              28.0  82ffeb20040f58e6c008e4402fa6f992   \n",
            "\n",
            "        customer_zip_code_prefix    customer_city  customer_state  \n",
            "98                         94470           viamao              RS  \n",
            "103                         6714            cotia              SP  \n",
            "192                        98900       santa rosa              RS  \n",
            "193                         6112           osasco              SP  \n",
            "265                         2977        sao paulo              SP  \n",
            "...                          ...              ...             ...  \n",
            "112525                      6765  taboao da serra              SP  \n",
            "112529                     89111           gaspar              SC  \n",
            "112542                     80210         curitiba              PR  \n",
            "112596                     79200       aquidauana              MS  \n",
            "112605                      1228        sao paulo              SP  \n",
            "\n",
            "[4007 rows x 26 columns]\n"
          ]
        }
      ],
      "source": [
        "#check how data can be NULL\n",
        "order_product_check= pd.DataFrame(order_product)\n",
        "\n",
        "# show row with NULL value\n",
        "null_rows = order_product[order_product.isnull().any(axis=1)]\n",
        "print(null_rows)"
      ]
    },
    {
      "cell_type": "markdown",
      "metadata": {
        "id": "PoizOLDeTB5z"
      },
      "source": [
        "from the NULL data presented, we need price, order id, and product category name data. Because the product category name has a NULL value, we can just throw it away because it is impossible to get from the approximate value using interpolation techniques and etc."
      ]
    },
    {
      "cell_type": "markdown",
      "metadata": {
        "id": "IwN_NH78Zu0O"
      },
      "source": [
        "Check Duplicate Data"
      ]
    },
    {
      "cell_type": "code",
      "execution_count": 13,
      "metadata": {
        "colab": {
          "base_uri": "https://localhost:8080/"
        },
        "id": "tuWM0cUxZxCl",
        "outputId": "327de24f-051a-46f0-9807-17b30bb823d7"
      },
      "outputs": [
        {
          "name": "stdout",
          "output_type": "stream",
          "text": [
            "Duplicated Data: 0\n"
          ]
        }
      ],
      "source": [
        "print(f\"Duplicated Data: {order_product_check.duplicated().sum()}\")"
      ]
    },
    {
      "cell_type": "markdown",
      "metadata": {
        "id": "LMbAsNvPaAzx"
      },
      "source": [
        "There is no duplicated data"
      ]
    },
    {
      "cell_type": "markdown",
      "metadata": {
        "id": "EhN5R4hr8DC1"
      },
      "source": [
        "### Cleaning Data"
      ]
    },
    {
      "cell_type": "markdown",
      "metadata": {
        "id": "pjJN-2RTMrR7"
      },
      "source": [
        "#### Question 1"
      ]
    },
    {
      "cell_type": "markdown",
      "metadata": {
        "id": "T9wsXjaTdLV0"
      },
      "source": [
        "Remove unnecessary columns"
      ]
    },
    {
      "cell_type": "code",
      "execution_count": 14,
      "metadata": {
        "colab": {
          "base_uri": "https://localhost:8080/",
          "height": 211
        },
        "id": "z0NH79AsMrR8",
        "outputId": "534c2623-bac8-46c4-a353-f23d65647df4"
      },
      "outputs": [
        {
          "data": {
            "text/html": [
              "<div>\n",
              "<style scoped>\n",
              "    .dataframe tbody tr th:only-of-type {\n",
              "        vertical-align: middle;\n",
              "    }\n",
              "\n",
              "    .dataframe tbody tr th {\n",
              "        vertical-align: top;\n",
              "    }\n",
              "\n",
              "    .dataframe thead th {\n",
              "        text-align: right;\n",
              "    }\n",
              "</style>\n",
              "<table border=\"1\" class=\"dataframe\">\n",
              "  <thead>\n",
              "    <tr style=\"text-align: right;\">\n",
              "      <th></th>\n",
              "      <th>review_id</th>\n",
              "      <th>order_id</th>\n",
              "      <th>review_score</th>\n",
              "      <th>review_creation_date</th>\n",
              "      <th>product_id</th>\n",
              "      <th>seller_id</th>\n",
              "      <th>seller_zip_code_prefix</th>\n",
              "      <th>seller_city</th>\n",
              "      <th>seller_state</th>\n",
              "    </tr>\n",
              "  </thead>\n",
              "  <tbody>\n",
              "    <tr>\n",
              "      <th>0</th>\n",
              "      <td>7bc2406110b926393aa56f80a40eba40</td>\n",
              "      <td>73fc7af87114b39712e6da79b0a377eb</td>\n",
              "      <td>4</td>\n",
              "      <td>2018-01-18 00:00:00</td>\n",
              "      <td>fd25ab760bfbba13c198fa3b4f1a0cd3</td>\n",
              "      <td>6d803cb79cc31c41c4c789a75933b3c7</td>\n",
              "      <td>14600</td>\n",
              "      <td>sao joaquim da barra</td>\n",
              "      <td>SP</td>\n",
              "    </tr>\n",
              "    <tr>\n",
              "      <th>1</th>\n",
              "      <td>7bc2406110b926393aa56f80a40eba40</td>\n",
              "      <td>73fc7af87114b39712e6da79b0a377eb</td>\n",
              "      <td>4</td>\n",
              "      <td>2018-01-18 00:00:00</td>\n",
              "      <td>fd25ab760bfbba13c198fa3b4f1a0cd3</td>\n",
              "      <td>6d803cb79cc31c41c4c789a75933b3c7</td>\n",
              "      <td>14600</td>\n",
              "      <td>sao joaquim da barra</td>\n",
              "      <td>SP</td>\n",
              "    </tr>\n",
              "    <tr>\n",
              "      <th>2</th>\n",
              "      <td>5fdb2ed7aa0f1b1c9642175b302e38af</td>\n",
              "      <td>b0bc656fed47584c160f8cff2d7b8bbd</td>\n",
              "      <td>5</td>\n",
              "      <td>2018-03-17 00:00:00</td>\n",
              "      <td>1acb18fc869c5489d5f76abcd681165e</td>\n",
              "      <td>6d803cb79cc31c41c4c789a75933b3c7</td>\n",
              "      <td>14600</td>\n",
              "      <td>sao joaquim da barra</td>\n",
              "      <td>SP</td>\n",
              "    </tr>\n",
              "    <tr>\n",
              "      <th>3</th>\n",
              "      <td>5fdb2ed7aa0f1b1c9642175b302e38af</td>\n",
              "      <td>b0bc656fed47584c160f8cff2d7b8bbd</td>\n",
              "      <td>5</td>\n",
              "      <td>2018-03-17 00:00:00</td>\n",
              "      <td>1acb18fc869c5489d5f76abcd681165e</td>\n",
              "      <td>6d803cb79cc31c41c4c789a75933b3c7</td>\n",
              "      <td>14600</td>\n",
              "      <td>sao joaquim da barra</td>\n",
              "      <td>SP</td>\n",
              "    </tr>\n",
              "    <tr>\n",
              "      <th>4</th>\n",
              "      <td>a085ad47c649d76e19a93be48169ef41</td>\n",
              "      <td>52b39f7d5f670b983cae0ae2607bb1bc</td>\n",
              "      <td>5</td>\n",
              "      <td>2017-08-02 00:00:00</td>\n",
              "      <td>45faac1ea8c173bb8c3e6cf23f5aac4e</td>\n",
              "      <td>6d803cb79cc31c41c4c789a75933b3c7</td>\n",
              "      <td>14600</td>\n",
              "      <td>sao joaquim da barra</td>\n",
              "      <td>SP</td>\n",
              "    </tr>\n",
              "    <tr>\n",
              "      <th>5</th>\n",
              "      <td>282c587306444ba24614b51e3cf9e224</td>\n",
              "      <td>f0cd188382c01c2acf331a637d869acc</td>\n",
              "      <td>5</td>\n",
              "      <td>2018-04-19 00:00:00</td>\n",
              "      <td>1acb18fc869c5489d5f76abcd681165e</td>\n",
              "      <td>6d803cb79cc31c41c4c789a75933b3c7</td>\n",
              "      <td>14600</td>\n",
              "      <td>sao joaquim da barra</td>\n",
              "      <td>SP</td>\n",
              "    </tr>\n",
              "    <tr>\n",
              "      <th>6</th>\n",
              "      <td>282c587306444ba24614b51e3cf9e224</td>\n",
              "      <td>f0cd188382c01c2acf331a637d869acc</td>\n",
              "      <td>5</td>\n",
              "      <td>2018-04-19 00:00:00</td>\n",
              "      <td>1acb18fc869c5489d5f76abcd681165e</td>\n",
              "      <td>6d803cb79cc31c41c4c789a75933b3c7</td>\n",
              "      <td>14600</td>\n",
              "      <td>sao joaquim da barra</td>\n",
              "      <td>SP</td>\n",
              "    </tr>\n",
              "    <tr>\n",
              "      <th>7</th>\n",
              "      <td>63f52661d616df41166b2c916db628f6</td>\n",
              "      <td>61edec4c7086a5383dc4f5e6fca69e9b</td>\n",
              "      <td>3</td>\n",
              "      <td>2018-06-12 00:00:00</td>\n",
              "      <td>cbd2c1ba72b7f4ce36a69fd430c019ae</td>\n",
              "      <td>6d803cb79cc31c41c4c789a75933b3c7</td>\n",
              "      <td>14600</td>\n",
              "      <td>sao joaquim da barra</td>\n",
              "      <td>SP</td>\n",
              "    </tr>\n",
              "    <tr>\n",
              "      <th>8</th>\n",
              "      <td>63f52661d616df41166b2c916db628f6</td>\n",
              "      <td>61edec4c7086a5383dc4f5e6fca69e9b</td>\n",
              "      <td>3</td>\n",
              "      <td>2018-06-12 00:00:00</td>\n",
              "      <td>cbd2c1ba72b7f4ce36a69fd430c019ae</td>\n",
              "      <td>6d803cb79cc31c41c4c789a75933b3c7</td>\n",
              "      <td>14600</td>\n",
              "      <td>sao joaquim da barra</td>\n",
              "      <td>SP</td>\n",
              "    </tr>\n",
              "    <tr>\n",
              "      <th>9</th>\n",
              "      <td>594c13e9e908f812ee3b049cf7e7386d</td>\n",
              "      <td>a60d308a1328a95a1e34b0c19e1ead05</td>\n",
              "      <td>5</td>\n",
              "      <td>2018-04-21 00:00:00</td>\n",
              "      <td>57dcf5497a141d23764008088c8d9974</td>\n",
              "      <td>6d803cb79cc31c41c4c789a75933b3c7</td>\n",
              "      <td>14600</td>\n",
              "      <td>sao joaquim da barra</td>\n",
              "      <td>SP</td>\n",
              "    </tr>\n",
              "    <tr>\n",
              "      <th>10</th>\n",
              "      <td>73c6898b7c89252f33d3bbb747db3f1e</td>\n",
              "      <td>65c96731ae030b052acda14e142e2a3f</td>\n",
              "      <td>1</td>\n",
              "      <td>2018-03-24 00:00:00</td>\n",
              "      <td>1acb18fc869c5489d5f76abcd681165e</td>\n",
              "      <td>6d803cb79cc31c41c4c789a75933b3c7</td>\n",
              "      <td>14600</td>\n",
              "      <td>sao joaquim da barra</td>\n",
              "      <td>SP</td>\n",
              "    </tr>\n",
              "    <tr>\n",
              "      <th>11</th>\n",
              "      <td>6da0b59ac3f534ffe72ee5f265ee67b6</td>\n",
              "      <td>3b18ad0839d6984800c3bee0d41eadcd</td>\n",
              "      <td>5</td>\n",
              "      <td>2017-08-29 00:00:00</td>\n",
              "      <td>7b1f89874277e47ac905f072ea8bc2fa</td>\n",
              "      <td>6d803cb79cc31c41c4c789a75933b3c7</td>\n",
              "      <td>14600</td>\n",
              "      <td>sao joaquim da barra</td>\n",
              "      <td>SP</td>\n",
              "    </tr>\n",
              "    <tr>\n",
              "      <th>12</th>\n",
              "      <td>7a9055497ad0879d3a40362abd01495e</td>\n",
              "      <td>33a87700d69548a4c5e19b95ac6f7612</td>\n",
              "      <td>5</td>\n",
              "      <td>2017-10-20 00:00:00</td>\n",
              "      <td>b18e0067418085fab0785606c86d875c</td>\n",
              "      <td>6d803cb79cc31c41c4c789a75933b3c7</td>\n",
              "      <td>14600</td>\n",
              "      <td>sao joaquim da barra</td>\n",
              "      <td>SP</td>\n",
              "    </tr>\n",
              "    <tr>\n",
              "      <th>13</th>\n",
              "      <td>82ae43e0c9f5683ffced227d257dbbef</td>\n",
              "      <td>4a1c3af89657b2177e85765d4390ef46</td>\n",
              "      <td>5</td>\n",
              "      <td>2018-04-10 00:00:00</td>\n",
              "      <td>45faac1ea8c173bb8c3e6cf23f5aac4e</td>\n",
              "      <td>6d803cb79cc31c41c4c789a75933b3c7</td>\n",
              "      <td>14600</td>\n",
              "      <td>sao joaquim da barra</td>\n",
              "      <td>SP</td>\n",
              "    </tr>\n",
              "    <tr>\n",
              "      <th>14</th>\n",
              "      <td>82ae43e0c9f5683ffced227d257dbbef</td>\n",
              "      <td>4a1c3af89657b2177e85765d4390ef46</td>\n",
              "      <td>5</td>\n",
              "      <td>2018-04-10 00:00:00</td>\n",
              "      <td>45faac1ea8c173bb8c3e6cf23f5aac4e</td>\n",
              "      <td>6d803cb79cc31c41c4c789a75933b3c7</td>\n",
              "      <td>14600</td>\n",
              "      <td>sao joaquim da barra</td>\n",
              "      <td>SP</td>\n",
              "    </tr>\n",
              "    <tr>\n",
              "      <th>15</th>\n",
              "      <td>e19fdb8b0639d9d27c75db3049553f8c</td>\n",
              "      <td>54ba13fda17f8cf8f1f57095a2c7c026</td>\n",
              "      <td>5</td>\n",
              "      <td>2018-02-19 00:00:00</td>\n",
              "      <td>a4fdd00347db855f614a18bf51606df5</td>\n",
              "      <td>6d803cb79cc31c41c4c789a75933b3c7</td>\n",
              "      <td>14600</td>\n",
              "      <td>sao joaquim da barra</td>\n",
              "      <td>SP</td>\n",
              "    </tr>\n",
              "    <tr>\n",
              "      <th>16</th>\n",
              "      <td>e19fdb8b0639d9d27c75db3049553f8c</td>\n",
              "      <td>54ba13fda17f8cf8f1f57095a2c7c026</td>\n",
              "      <td>5</td>\n",
              "      <td>2018-02-19 00:00:00</td>\n",
              "      <td>a4fdd00347db855f614a18bf51606df5</td>\n",
              "      <td>6d803cb79cc31c41c4c789a75933b3c7</td>\n",
              "      <td>14600</td>\n",
              "      <td>sao joaquim da barra</td>\n",
              "      <td>SP</td>\n",
              "    </tr>\n",
              "    <tr>\n",
              "      <th>17</th>\n",
              "      <td>76c9b817071debd82a1284fa73072145</td>\n",
              "      <td>8a54c9464b6ee0a6fe3502c6a6547eca</td>\n",
              "      <td>5</td>\n",
              "      <td>2018-01-19 00:00:00</td>\n",
              "      <td>1acb18fc869c5489d5f76abcd681165e</td>\n",
              "      <td>6d803cb79cc31c41c4c789a75933b3c7</td>\n",
              "      <td>14600</td>\n",
              "      <td>sao joaquim da barra</td>\n",
              "      <td>SP</td>\n",
              "    </tr>\n",
              "    <tr>\n",
              "      <th>18</th>\n",
              "      <td>e9d10aa6e571d8e8fb65f482f36c33f2</td>\n",
              "      <td>57cf6eb1706dddd95bd2f102339400a1</td>\n",
              "      <td>5</td>\n",
              "      <td>2017-09-03 00:00:00</td>\n",
              "      <td>2e274768896aa2c7635b9689423a5d34</td>\n",
              "      <td>6d803cb79cc31c41c4c789a75933b3c7</td>\n",
              "      <td>14600</td>\n",
              "      <td>sao joaquim da barra</td>\n",
              "      <td>SP</td>\n",
              "    </tr>\n",
              "    <tr>\n",
              "      <th>19</th>\n",
              "      <td>e4c496d02896ec757161fb35396e0d8f</td>\n",
              "      <td>e5c5696c3d5677d8344d887b87836487</td>\n",
              "      <td>4</td>\n",
              "      <td>2018-03-20 00:00:00</td>\n",
              "      <td>1acb18fc869c5489d5f76abcd681165e</td>\n",
              "      <td>6d803cb79cc31c41c4c789a75933b3c7</td>\n",
              "      <td>14600</td>\n",
              "      <td>sao joaquim da barra</td>\n",
              "      <td>SP</td>\n",
              "    </tr>\n",
              "  </tbody>\n",
              "</table>\n",
              "</div>"
            ],
            "text/plain": [
              "                           review_id                          order_id  \\\n",
              "0   7bc2406110b926393aa56f80a40eba40  73fc7af87114b39712e6da79b0a377eb   \n",
              "1   7bc2406110b926393aa56f80a40eba40  73fc7af87114b39712e6da79b0a377eb   \n",
              "2   5fdb2ed7aa0f1b1c9642175b302e38af  b0bc656fed47584c160f8cff2d7b8bbd   \n",
              "3   5fdb2ed7aa0f1b1c9642175b302e38af  b0bc656fed47584c160f8cff2d7b8bbd   \n",
              "4   a085ad47c649d76e19a93be48169ef41  52b39f7d5f670b983cae0ae2607bb1bc   \n",
              "5   282c587306444ba24614b51e3cf9e224  f0cd188382c01c2acf331a637d869acc   \n",
              "6   282c587306444ba24614b51e3cf9e224  f0cd188382c01c2acf331a637d869acc   \n",
              "7   63f52661d616df41166b2c916db628f6  61edec4c7086a5383dc4f5e6fca69e9b   \n",
              "8   63f52661d616df41166b2c916db628f6  61edec4c7086a5383dc4f5e6fca69e9b   \n",
              "9   594c13e9e908f812ee3b049cf7e7386d  a60d308a1328a95a1e34b0c19e1ead05   \n",
              "10  73c6898b7c89252f33d3bbb747db3f1e  65c96731ae030b052acda14e142e2a3f   \n",
              "11  6da0b59ac3f534ffe72ee5f265ee67b6  3b18ad0839d6984800c3bee0d41eadcd   \n",
              "12  7a9055497ad0879d3a40362abd01495e  33a87700d69548a4c5e19b95ac6f7612   \n",
              "13  82ae43e0c9f5683ffced227d257dbbef  4a1c3af89657b2177e85765d4390ef46   \n",
              "14  82ae43e0c9f5683ffced227d257dbbef  4a1c3af89657b2177e85765d4390ef46   \n",
              "15  e19fdb8b0639d9d27c75db3049553f8c  54ba13fda17f8cf8f1f57095a2c7c026   \n",
              "16  e19fdb8b0639d9d27c75db3049553f8c  54ba13fda17f8cf8f1f57095a2c7c026   \n",
              "17  76c9b817071debd82a1284fa73072145  8a54c9464b6ee0a6fe3502c6a6547eca   \n",
              "18  e9d10aa6e571d8e8fb65f482f36c33f2  57cf6eb1706dddd95bd2f102339400a1   \n",
              "19  e4c496d02896ec757161fb35396e0d8f  e5c5696c3d5677d8344d887b87836487   \n",
              "\n",
              "    review_score review_creation_date                        product_id  \\\n",
              "0              4  2018-01-18 00:00:00  fd25ab760bfbba13c198fa3b4f1a0cd3   \n",
              "1              4  2018-01-18 00:00:00  fd25ab760bfbba13c198fa3b4f1a0cd3   \n",
              "2              5  2018-03-17 00:00:00  1acb18fc869c5489d5f76abcd681165e   \n",
              "3              5  2018-03-17 00:00:00  1acb18fc869c5489d5f76abcd681165e   \n",
              "4              5  2017-08-02 00:00:00  45faac1ea8c173bb8c3e6cf23f5aac4e   \n",
              "5              5  2018-04-19 00:00:00  1acb18fc869c5489d5f76abcd681165e   \n",
              "6              5  2018-04-19 00:00:00  1acb18fc869c5489d5f76abcd681165e   \n",
              "7              3  2018-06-12 00:00:00  cbd2c1ba72b7f4ce36a69fd430c019ae   \n",
              "8              3  2018-06-12 00:00:00  cbd2c1ba72b7f4ce36a69fd430c019ae   \n",
              "9              5  2018-04-21 00:00:00  57dcf5497a141d23764008088c8d9974   \n",
              "10             1  2018-03-24 00:00:00  1acb18fc869c5489d5f76abcd681165e   \n",
              "11             5  2017-08-29 00:00:00  7b1f89874277e47ac905f072ea8bc2fa   \n",
              "12             5  2017-10-20 00:00:00  b18e0067418085fab0785606c86d875c   \n",
              "13             5  2018-04-10 00:00:00  45faac1ea8c173bb8c3e6cf23f5aac4e   \n",
              "14             5  2018-04-10 00:00:00  45faac1ea8c173bb8c3e6cf23f5aac4e   \n",
              "15             5  2018-02-19 00:00:00  a4fdd00347db855f614a18bf51606df5   \n",
              "16             5  2018-02-19 00:00:00  a4fdd00347db855f614a18bf51606df5   \n",
              "17             5  2018-01-19 00:00:00  1acb18fc869c5489d5f76abcd681165e   \n",
              "18             5  2017-09-03 00:00:00  2e274768896aa2c7635b9689423a5d34   \n",
              "19             4  2018-03-20 00:00:00  1acb18fc869c5489d5f76abcd681165e   \n",
              "\n",
              "                           seller_id  seller_zip_code_prefix  \\\n",
              "0   6d803cb79cc31c41c4c789a75933b3c7                   14600   \n",
              "1   6d803cb79cc31c41c4c789a75933b3c7                   14600   \n",
              "2   6d803cb79cc31c41c4c789a75933b3c7                   14600   \n",
              "3   6d803cb79cc31c41c4c789a75933b3c7                   14600   \n",
              "4   6d803cb79cc31c41c4c789a75933b3c7                   14600   \n",
              "5   6d803cb79cc31c41c4c789a75933b3c7                   14600   \n",
              "6   6d803cb79cc31c41c4c789a75933b3c7                   14600   \n",
              "7   6d803cb79cc31c41c4c789a75933b3c7                   14600   \n",
              "8   6d803cb79cc31c41c4c789a75933b3c7                   14600   \n",
              "9   6d803cb79cc31c41c4c789a75933b3c7                   14600   \n",
              "10  6d803cb79cc31c41c4c789a75933b3c7                   14600   \n",
              "11  6d803cb79cc31c41c4c789a75933b3c7                   14600   \n",
              "12  6d803cb79cc31c41c4c789a75933b3c7                   14600   \n",
              "13  6d803cb79cc31c41c4c789a75933b3c7                   14600   \n",
              "14  6d803cb79cc31c41c4c789a75933b3c7                   14600   \n",
              "15  6d803cb79cc31c41c4c789a75933b3c7                   14600   \n",
              "16  6d803cb79cc31c41c4c789a75933b3c7                   14600   \n",
              "17  6d803cb79cc31c41c4c789a75933b3c7                   14600   \n",
              "18  6d803cb79cc31c41c4c789a75933b3c7                   14600   \n",
              "19  6d803cb79cc31c41c4c789a75933b3c7                   14600   \n",
              "\n",
              "             seller_city seller_state  \n",
              "0   sao joaquim da barra           SP  \n",
              "1   sao joaquim da barra           SP  \n",
              "2   sao joaquim da barra           SP  \n",
              "3   sao joaquim da barra           SP  \n",
              "4   sao joaquim da barra           SP  \n",
              "5   sao joaquim da barra           SP  \n",
              "6   sao joaquim da barra           SP  \n",
              "7   sao joaquim da barra           SP  \n",
              "8   sao joaquim da barra           SP  \n",
              "9   sao joaquim da barra           SP  \n",
              "10  sao joaquim da barra           SP  \n",
              "11  sao joaquim da barra           SP  \n",
              "12  sao joaquim da barra           SP  \n",
              "13  sao joaquim da barra           SP  \n",
              "14  sao joaquim da barra           SP  \n",
              "15  sao joaquim da barra           SP  \n",
              "16  sao joaquim da barra           SP  \n",
              "17  sao joaquim da barra           SP  \n",
              "18  sao joaquim da barra           SP  \n",
              "19  sao joaquim da barra           SP  "
            ]
          },
          "execution_count": 14,
          "metadata": {},
          "output_type": "execute_result"
        }
      ],
      "source": [
        "#Drop column which we won't use it\n",
        "column_drop = ['review_comment_title','review_comment_message','review_answer_timestamp', 'order_item_id','shipping_limit_date','price','freight_value']\n",
        "itemreviews_seller.drop(column_drop,axis=1,inplace=True)\n",
        "itemreviews_seller.head(20)"
      ]
    },
    {
      "cell_type": "markdown",
      "metadata": {
        "id": "5eV8se7lMrR9"
      },
      "source": [
        "#### Question 2"
      ]
    },
    {
      "cell_type": "markdown",
      "metadata": {
        "id": "I5III6djpo7f"
      },
      "source": [
        "Drop Null value. After that, check again"
      ]
    },
    {
      "cell_type": "code",
      "execution_count": 15,
      "metadata": {
        "colab": {
          "base_uri": "https://localhost:8080/"
        },
        "id": "jVnYpprE9Evz",
        "outputId": "71b68929-5cd7-45a9-bab6-05b868a20dde"
      },
      "outputs": [
        {
          "data": {
            "text/plain": [
              "order_id                         0\n",
              "customer_id                      0\n",
              "order_status                     0\n",
              "order_purchase_timestamp         0\n",
              "order_approved_at                0\n",
              "order_delivered_carrier_date     0\n",
              "order_delivered_customer_date    0\n",
              "order_estimated_delivery_date    0\n",
              "customer_unique_id               0\n",
              "customer_zip_code_prefix         0\n",
              "customer_city                    0\n",
              "customer_state                   0\n",
              "dtype: int64"
            ]
          },
          "execution_count": 15,
          "metadata": {},
          "output_type": "execute_result"
        }
      ],
      "source": [
        "#drop NULL value\n",
        "order_and_customer.dropna(axis=0,inplace=True)\n",
        "#check NULL value\n",
        "order_and_customer.isna().sum()\n",
        "#There are no NULL value"
      ]
    },
    {
      "cell_type": "markdown",
      "metadata": {
        "id": "4oxHz2dFp3Mg"
      },
      "source": [
        "Drop column which we won't use it. It will make easier to analyze"
      ]
    },
    {
      "cell_type": "code",
      "execution_count": 16,
      "metadata": {
        "colab": {
          "base_uri": "https://localhost:8080/",
          "height": 714
        },
        "id": "3h2x4CRBMrR-",
        "outputId": "4b1c01e5-39ad-43b4-dbff-7b0ea1d17ee6"
      },
      "outputs": [
        {
          "data": {
            "text/html": [
              "<div>\n",
              "<style scoped>\n",
              "    .dataframe tbody tr th:only-of-type {\n",
              "        vertical-align: middle;\n",
              "    }\n",
              "\n",
              "    .dataframe tbody tr th {\n",
              "        vertical-align: top;\n",
              "    }\n",
              "\n",
              "    .dataframe thead th {\n",
              "        text-align: right;\n",
              "    }\n",
              "</style>\n",
              "<table border=\"1\" class=\"dataframe\">\n",
              "  <thead>\n",
              "    <tr style=\"text-align: right;\">\n",
              "      <th></th>\n",
              "      <th>order_id</th>\n",
              "      <th>customer_id</th>\n",
              "      <th>order_status</th>\n",
              "      <th>order_delivered_customer_date</th>\n",
              "      <th>order_estimated_delivery_date</th>\n",
              "      <th>customer_zip_code_prefix</th>\n",
              "      <th>customer_city</th>\n",
              "      <th>customer_state</th>\n",
              "    </tr>\n",
              "  </thead>\n",
              "  <tbody>\n",
              "    <tr>\n",
              "      <th>0</th>\n",
              "      <td>e481f51cbdc54678b7cc49136f2d6af7</td>\n",
              "      <td>9ef432eb6251297304e76186b10a928d</td>\n",
              "      <td>delivered</td>\n",
              "      <td>2017-10-10 21:25:13</td>\n",
              "      <td>2017-10-18 00:00:00</td>\n",
              "      <td>3149</td>\n",
              "      <td>sao paulo</td>\n",
              "      <td>SP</td>\n",
              "    </tr>\n",
              "    <tr>\n",
              "      <th>1</th>\n",
              "      <td>53cdb2fc8bc7dce0b6741e2150273451</td>\n",
              "      <td>b0830fb4747a6c6d20dea0b8c802d7ef</td>\n",
              "      <td>delivered</td>\n",
              "      <td>2018-08-07 15:27:45</td>\n",
              "      <td>2018-08-13 00:00:00</td>\n",
              "      <td>47813</td>\n",
              "      <td>barreiras</td>\n",
              "      <td>BA</td>\n",
              "    </tr>\n",
              "    <tr>\n",
              "      <th>2</th>\n",
              "      <td>47770eb9100c2d0c44946d9cf07ec65d</td>\n",
              "      <td>41ce2a54c0b03bf3443c3d931a367089</td>\n",
              "      <td>delivered</td>\n",
              "      <td>2018-08-17 18:06:29</td>\n",
              "      <td>2018-09-04 00:00:00</td>\n",
              "      <td>75265</td>\n",
              "      <td>vianopolis</td>\n",
              "      <td>GO</td>\n",
              "    </tr>\n",
              "    <tr>\n",
              "      <th>3</th>\n",
              "      <td>949d5b44dbf5de918fe9c16f97b45f8a</td>\n",
              "      <td>f88197465ea7920adcdbec7375364d82</td>\n",
              "      <td>delivered</td>\n",
              "      <td>2017-12-02 00:28:42</td>\n",
              "      <td>2017-12-15 00:00:00</td>\n",
              "      <td>59296</td>\n",
              "      <td>sao goncalo do amarante</td>\n",
              "      <td>RN</td>\n",
              "    </tr>\n",
              "    <tr>\n",
              "      <th>4</th>\n",
              "      <td>ad21c59c0840e6cb83a9ceb5573f8159</td>\n",
              "      <td>8ab97904e6daea8866dbdbc4fb7aad2c</td>\n",
              "      <td>delivered</td>\n",
              "      <td>2018-02-16 18:17:02</td>\n",
              "      <td>2018-02-26 00:00:00</td>\n",
              "      <td>9195</td>\n",
              "      <td>santo andre</td>\n",
              "      <td>SP</td>\n",
              "    </tr>\n",
              "    <tr>\n",
              "      <th>5</th>\n",
              "      <td>a4591c265e18cb1dcee52889e2d8acc3</td>\n",
              "      <td>503740e9ca751ccdda7ba28e9ab8f608</td>\n",
              "      <td>delivered</td>\n",
              "      <td>2017-07-26 10:57:55</td>\n",
              "      <td>2017-08-01 00:00:00</td>\n",
              "      <td>86320</td>\n",
              "      <td>congonhinhas</td>\n",
              "      <td>PR</td>\n",
              "    </tr>\n",
              "    <tr>\n",
              "      <th>7</th>\n",
              "      <td>6514b8ad8028c9f2cc2374ded245783f</td>\n",
              "      <td>9bdf08b4b3b52b5526ff42d37d47f222</td>\n",
              "      <td>delivered</td>\n",
              "      <td>2017-05-26 12:55:51</td>\n",
              "      <td>2017-06-07 00:00:00</td>\n",
              "      <td>26525</td>\n",
              "      <td>nilopolis</td>\n",
              "      <td>RJ</td>\n",
              "    </tr>\n",
              "    <tr>\n",
              "      <th>8</th>\n",
              "      <td>76c6e866289321a7c93b82b54852dc33</td>\n",
              "      <td>f54a9f0e6b351c431402b8461ea51999</td>\n",
              "      <td>delivered</td>\n",
              "      <td>2017-02-02 14:08:10</td>\n",
              "      <td>2017-03-06 00:00:00</td>\n",
              "      <td>99655</td>\n",
              "      <td>faxinalzinho</td>\n",
              "      <td>RS</td>\n",
              "    </tr>\n",
              "    <tr>\n",
              "      <th>9</th>\n",
              "      <td>e69bfb5eb88e0ed6a785585b27e16dbf</td>\n",
              "      <td>31ad1d1b63eb9962463f764d4e6e0c9d</td>\n",
              "      <td>delivered</td>\n",
              "      <td>2017-08-16 17:14:30</td>\n",
              "      <td>2017-08-23 00:00:00</td>\n",
              "      <td>18075</td>\n",
              "      <td>sorocaba</td>\n",
              "      <td>SP</td>\n",
              "    </tr>\n",
              "    <tr>\n",
              "      <th>10</th>\n",
              "      <td>e6ce16cb79ec1d90b1da9085a6118aeb</td>\n",
              "      <td>494dded5b201313c64ed7f100595b95c</td>\n",
              "      <td>delivered</td>\n",
              "      <td>2017-05-29 11:18:31</td>\n",
              "      <td>2017-06-07 00:00:00</td>\n",
              "      <td>20780</td>\n",
              "      <td>rio de janeiro</td>\n",
              "      <td>RJ</td>\n",
              "    </tr>\n",
              "    <tr>\n",
              "      <th>11</th>\n",
              "      <td>34513ce0c4fab462a55830c0989c7edb</td>\n",
              "      <td>7711cf624183d843aafe81855097bc37</td>\n",
              "      <td>delivered</td>\n",
              "      <td>2017-07-19 14:04:48</td>\n",
              "      <td>2017-08-08 00:00:00</td>\n",
              "      <td>4278</td>\n",
              "      <td>sao paulo</td>\n",
              "      <td>SP</td>\n",
              "    </tr>\n",
              "    <tr>\n",
              "      <th>12</th>\n",
              "      <td>82566a660a982b15fb86e904c8d32918</td>\n",
              "      <td>d3e3b74c766bc6214e0c830b17ee2341</td>\n",
              "      <td>delivered</td>\n",
              "      <td>2018-06-19 12:05:52</td>\n",
              "      <td>2018-07-18 00:00:00</td>\n",
              "      <td>35400</td>\n",
              "      <td>ouro preto</td>\n",
              "      <td>MG</td>\n",
              "    </tr>\n",
              "    <tr>\n",
              "      <th>13</th>\n",
              "      <td>5ff96c15d0b717ac6ad1f3d77225a350</td>\n",
              "      <td>19402a48fe860416adf93348aba37740</td>\n",
              "      <td>delivered</td>\n",
              "      <td>2018-07-30 15:52:25</td>\n",
              "      <td>2018-08-08 00:00:00</td>\n",
              "      <td>4812</td>\n",
              "      <td>sao paulo</td>\n",
              "      <td>SP</td>\n",
              "    </tr>\n",
              "    <tr>\n",
              "      <th>14</th>\n",
              "      <td>432aaf21d85167c2c86ec9448c4e42cc</td>\n",
              "      <td>3df704f53d3f1d4818840b34ec672a9f</td>\n",
              "      <td>delivered</td>\n",
              "      <td>2018-03-12 23:36:26</td>\n",
              "      <td>2018-03-21 00:00:00</td>\n",
              "      <td>5271</td>\n",
              "      <td>sao paulo</td>\n",
              "      <td>SP</td>\n",
              "    </tr>\n",
              "    <tr>\n",
              "      <th>15</th>\n",
              "      <td>dcb36b511fcac050b97cd5c05de84dc3</td>\n",
              "      <td>3b6828a50ffe546942b7a473d70ac0fc</td>\n",
              "      <td>delivered</td>\n",
              "      <td>2018-06-21 15:34:32</td>\n",
              "      <td>2018-07-04 00:00:00</td>\n",
              "      <td>74820</td>\n",
              "      <td>goiania</td>\n",
              "      <td>GO</td>\n",
              "    </tr>\n",
              "    <tr>\n",
              "      <th>16</th>\n",
              "      <td>403b97836b0c04a622354cf531062e5f</td>\n",
              "      <td>738b086814c6fcc74b8cc583f8516ee3</td>\n",
              "      <td>delivered</td>\n",
              "      <td>2018-01-20 01:38:59</td>\n",
              "      <td>2018-02-06 00:00:00</td>\n",
              "      <td>21381</td>\n",
              "      <td>rio de janeiro</td>\n",
              "      <td>RJ</td>\n",
              "    </tr>\n",
              "    <tr>\n",
              "      <th>17</th>\n",
              "      <td>116f0b09343b49556bbad5f35bee0cdf</td>\n",
              "      <td>3187789bec990987628d7a9beb4dd6ac</td>\n",
              "      <td>delivered</td>\n",
              "      <td>2018-01-08 22:36:36</td>\n",
              "      <td>2018-01-29 00:00:00</td>\n",
              "      <td>88780</td>\n",
              "      <td>imbituba</td>\n",
              "      <td>SC</td>\n",
              "    </tr>\n",
              "    <tr>\n",
              "      <th>18</th>\n",
              "      <td>85ce859fd6dc634de8d2f1e290444043</td>\n",
              "      <td>059f7fc5719c7da6cbafe370971a8d70</td>\n",
              "      <td>delivered</td>\n",
              "      <td>2017-11-27 18:28:00</td>\n",
              "      <td>2017-12-11 00:00:00</td>\n",
              "      <td>13186</td>\n",
              "      <td>hortolandia</td>\n",
              "      <td>SP</td>\n",
              "    </tr>\n",
              "    <tr>\n",
              "      <th>19</th>\n",
              "      <td>83018ec114eee8641c97e08f7b4e926f</td>\n",
              "      <td>7f8c8b9c2ae27bf3300f670c3d478be8</td>\n",
              "      <td>delivered</td>\n",
              "      <td>2017-11-08 22:22:00</td>\n",
              "      <td>2017-11-23 00:00:00</td>\n",
              "      <td>44024</td>\n",
              "      <td>feira de santana</td>\n",
              "      <td>BA</td>\n",
              "    </tr>\n",
              "    <tr>\n",
              "      <th>20</th>\n",
              "      <td>203096f03d82e0dffbc41ebc2e2bcfb7</td>\n",
              "      <td>d2b091571da224a1b36412c18bc3bbfe</td>\n",
              "      <td>delivered</td>\n",
              "      <td>2017-10-09 22:23:46</td>\n",
              "      <td>2017-09-28 00:00:00</td>\n",
              "      <td>4001</td>\n",
              "      <td>sao paulo</td>\n",
              "      <td>SP</td>\n",
              "    </tr>\n",
              "  </tbody>\n",
              "</table>\n",
              "</div>"
            ],
            "text/plain": [
              "                            order_id                       customer_id  \\\n",
              "0   e481f51cbdc54678b7cc49136f2d6af7  9ef432eb6251297304e76186b10a928d   \n",
              "1   53cdb2fc8bc7dce0b6741e2150273451  b0830fb4747a6c6d20dea0b8c802d7ef   \n",
              "2   47770eb9100c2d0c44946d9cf07ec65d  41ce2a54c0b03bf3443c3d931a367089   \n",
              "3   949d5b44dbf5de918fe9c16f97b45f8a  f88197465ea7920adcdbec7375364d82   \n",
              "4   ad21c59c0840e6cb83a9ceb5573f8159  8ab97904e6daea8866dbdbc4fb7aad2c   \n",
              "5   a4591c265e18cb1dcee52889e2d8acc3  503740e9ca751ccdda7ba28e9ab8f608   \n",
              "7   6514b8ad8028c9f2cc2374ded245783f  9bdf08b4b3b52b5526ff42d37d47f222   \n",
              "8   76c6e866289321a7c93b82b54852dc33  f54a9f0e6b351c431402b8461ea51999   \n",
              "9   e69bfb5eb88e0ed6a785585b27e16dbf  31ad1d1b63eb9962463f764d4e6e0c9d   \n",
              "10  e6ce16cb79ec1d90b1da9085a6118aeb  494dded5b201313c64ed7f100595b95c   \n",
              "11  34513ce0c4fab462a55830c0989c7edb  7711cf624183d843aafe81855097bc37   \n",
              "12  82566a660a982b15fb86e904c8d32918  d3e3b74c766bc6214e0c830b17ee2341   \n",
              "13  5ff96c15d0b717ac6ad1f3d77225a350  19402a48fe860416adf93348aba37740   \n",
              "14  432aaf21d85167c2c86ec9448c4e42cc  3df704f53d3f1d4818840b34ec672a9f   \n",
              "15  dcb36b511fcac050b97cd5c05de84dc3  3b6828a50ffe546942b7a473d70ac0fc   \n",
              "16  403b97836b0c04a622354cf531062e5f  738b086814c6fcc74b8cc583f8516ee3   \n",
              "17  116f0b09343b49556bbad5f35bee0cdf  3187789bec990987628d7a9beb4dd6ac   \n",
              "18  85ce859fd6dc634de8d2f1e290444043  059f7fc5719c7da6cbafe370971a8d70   \n",
              "19  83018ec114eee8641c97e08f7b4e926f  7f8c8b9c2ae27bf3300f670c3d478be8   \n",
              "20  203096f03d82e0dffbc41ebc2e2bcfb7  d2b091571da224a1b36412c18bc3bbfe   \n",
              "\n",
              "   order_status order_delivered_customer_date order_estimated_delivery_date  \\\n",
              "0     delivered           2017-10-10 21:25:13           2017-10-18 00:00:00   \n",
              "1     delivered           2018-08-07 15:27:45           2018-08-13 00:00:00   \n",
              "2     delivered           2018-08-17 18:06:29           2018-09-04 00:00:00   \n",
              "3     delivered           2017-12-02 00:28:42           2017-12-15 00:00:00   \n",
              "4     delivered           2018-02-16 18:17:02           2018-02-26 00:00:00   \n",
              "5     delivered           2017-07-26 10:57:55           2017-08-01 00:00:00   \n",
              "7     delivered           2017-05-26 12:55:51           2017-06-07 00:00:00   \n",
              "8     delivered           2017-02-02 14:08:10           2017-03-06 00:00:00   \n",
              "9     delivered           2017-08-16 17:14:30           2017-08-23 00:00:00   \n",
              "10    delivered           2017-05-29 11:18:31           2017-06-07 00:00:00   \n",
              "11    delivered           2017-07-19 14:04:48           2017-08-08 00:00:00   \n",
              "12    delivered           2018-06-19 12:05:52           2018-07-18 00:00:00   \n",
              "13    delivered           2018-07-30 15:52:25           2018-08-08 00:00:00   \n",
              "14    delivered           2018-03-12 23:36:26           2018-03-21 00:00:00   \n",
              "15    delivered           2018-06-21 15:34:32           2018-07-04 00:00:00   \n",
              "16    delivered           2018-01-20 01:38:59           2018-02-06 00:00:00   \n",
              "17    delivered           2018-01-08 22:36:36           2018-01-29 00:00:00   \n",
              "18    delivered           2017-11-27 18:28:00           2017-12-11 00:00:00   \n",
              "19    delivered           2017-11-08 22:22:00           2017-11-23 00:00:00   \n",
              "20    delivered           2017-10-09 22:23:46           2017-09-28 00:00:00   \n",
              "\n",
              "    customer_zip_code_prefix            customer_city customer_state  \n",
              "0                       3149                sao paulo             SP  \n",
              "1                      47813                barreiras             BA  \n",
              "2                      75265               vianopolis             GO  \n",
              "3                      59296  sao goncalo do amarante             RN  \n",
              "4                       9195              santo andre             SP  \n",
              "5                      86320             congonhinhas             PR  \n",
              "7                      26525                nilopolis             RJ  \n",
              "8                      99655             faxinalzinho             RS  \n",
              "9                      18075                 sorocaba             SP  \n",
              "10                     20780           rio de janeiro             RJ  \n",
              "11                      4278                sao paulo             SP  \n",
              "12                     35400               ouro preto             MG  \n",
              "13                      4812                sao paulo             SP  \n",
              "14                      5271                sao paulo             SP  \n",
              "15                     74820                  goiania             GO  \n",
              "16                     21381           rio de janeiro             RJ  \n",
              "17                     88780                 imbituba             SC  \n",
              "18                     13186              hortolandia             SP  \n",
              "19                     44024         feira de santana             BA  \n",
              "20                      4001                sao paulo             SP  "
            ]
          },
          "execution_count": 16,
          "metadata": {},
          "output_type": "execute_result"
        }
      ],
      "source": [
        "#Drop Column which we won't use it\n",
        "column_to_drop = ['order_purchase_timestamp','order_approved_at','order_delivered_carrier_date','customer_unique_id']\n",
        "order_and_customer.drop(column_to_drop,axis=1,inplace=True)\n",
        "order_and_customer.head(20)"
      ]
    },
    {
      "cell_type": "markdown",
      "metadata": {
        "id": "xqLdK6EuVuF1"
      },
      "source": [
        "#### Question 3"
      ]
    },
    {
      "cell_type": "code",
      "execution_count": 17,
      "metadata": {
        "colab": {
          "base_uri": "https://localhost:8080/"
        },
        "id": "Pro9G5imVzKl",
        "outputId": "7be6085c-abdd-4f67-8314-77393f2def43"
      },
      "outputs": [
        {
          "data": {
            "text/plain": [
              "order_id                          0\n",
              "customer_id                       0\n",
              "order_status                      0\n",
              "order_purchase_timestamp          0\n",
              "order_approved_at                14\n",
              "order_delivered_carrier_date      1\n",
              "order_delivered_customer_date     0\n",
              "order_estimated_delivery_date     0\n",
              "order_item_id                     0\n",
              "product_id                        0\n",
              "seller_id                         0\n",
              "shipping_limit_date               0\n",
              "price                             0\n",
              "freight_value                     0\n",
              "product_category_name             0\n",
              "product_name_lenght               0\n",
              "product_description_lenght        0\n",
              "product_photos_qty                0\n",
              "product_weight_g                  1\n",
              "product_length_cm                 1\n",
              "product_height_cm                 1\n",
              "product_width_cm                  1\n",
              "customer_unique_id                0\n",
              "customer_zip_code_prefix          0\n",
              "customer_city                     0\n",
              "customer_state                    0\n",
              "dtype: int64"
            ]
          },
          "execution_count": 17,
          "metadata": {},
          "output_type": "execute_result"
        }
      ],
      "source": [
        "#drop NULL value\n",
        "order_product.dropna(axis=0,subset=['product_category_name','order_delivered_customer_date'],inplace=True)\n",
        "#check NULL value\n",
        "order_product.isna().sum()\n",
        "#There are no NULL value"
      ]
    },
    {
      "cell_type": "markdown",
      "metadata": {
        "id": "HasRyI74aJvt"
      },
      "source": [
        "Drop column which we won't use"
      ]
    },
    {
      "cell_type": "code",
      "execution_count": 18,
      "metadata": {
        "colab": {
          "base_uri": "https://localhost:8080/",
          "height": 749
        },
        "id": "k9PIWIq3aNLv",
        "outputId": "8f88dfaa-0a90-4b2b-e800-e3089cd0f161"
      },
      "outputs": [
        {
          "data": {
            "text/html": [
              "<div>\n",
              "<style scoped>\n",
              "    .dataframe tbody tr th:only-of-type {\n",
              "        vertical-align: middle;\n",
              "    }\n",
              "\n",
              "    .dataframe tbody tr th {\n",
              "        vertical-align: top;\n",
              "    }\n",
              "\n",
              "    .dataframe thead th {\n",
              "        text-align: right;\n",
              "    }\n",
              "</style>\n",
              "<table border=\"1\" class=\"dataframe\">\n",
              "  <thead>\n",
              "    <tr style=\"text-align: right;\">\n",
              "      <th></th>\n",
              "      <th>order_id</th>\n",
              "      <th>customer_id</th>\n",
              "      <th>order_status</th>\n",
              "      <th>order_delivered_customer_date</th>\n",
              "      <th>order_item_id</th>\n",
              "      <th>product_id</th>\n",
              "      <th>price</th>\n",
              "      <th>product_category_name</th>\n",
              "      <th>customer_city</th>\n",
              "      <th>customer_state</th>\n",
              "    </tr>\n",
              "  </thead>\n",
              "  <tbody>\n",
              "    <tr>\n",
              "      <th>0</th>\n",
              "      <td>e481f51cbdc54678b7cc49136f2d6af7</td>\n",
              "      <td>9ef432eb6251297304e76186b10a928d</td>\n",
              "      <td>delivered</td>\n",
              "      <td>2017-10-10 21:25:13</td>\n",
              "      <td>1</td>\n",
              "      <td>87285b34884572647811a353c7ac498a</td>\n",
              "      <td>29.99</td>\n",
              "      <td>utilidades_domesticas</td>\n",
              "      <td>sao paulo</td>\n",
              "      <td>SP</td>\n",
              "    </tr>\n",
              "    <tr>\n",
              "      <th>1</th>\n",
              "      <td>128e10d95713541c87cd1a2e48201934</td>\n",
              "      <td>a20e8105f23924cd00833fd87daa0831</td>\n",
              "      <td>delivered</td>\n",
              "      <td>2017-08-18 14:44:43</td>\n",
              "      <td>1</td>\n",
              "      <td>87285b34884572647811a353c7ac498a</td>\n",
              "      <td>29.99</td>\n",
              "      <td>utilidades_domesticas</td>\n",
              "      <td>sao paulo</td>\n",
              "      <td>SP</td>\n",
              "    </tr>\n",
              "    <tr>\n",
              "      <th>2</th>\n",
              "      <td>0e7e841ddf8f8f2de2bad69267ecfbcf</td>\n",
              "      <td>26c7ac168e1433912a51b924fbd34d34</td>\n",
              "      <td>delivered</td>\n",
              "      <td>2017-08-07 18:30:01</td>\n",
              "      <td>1</td>\n",
              "      <td>87285b34884572647811a353c7ac498a</td>\n",
              "      <td>29.99</td>\n",
              "      <td>utilidades_domesticas</td>\n",
              "      <td>sao paulo</td>\n",
              "      <td>SP</td>\n",
              "    </tr>\n",
              "    <tr>\n",
              "      <th>3</th>\n",
              "      <td>bfc39df4f36c3693ff3b63fcbea9e90a</td>\n",
              "      <td>53904ddbea91e1e92b2b3f1d09a7af86</td>\n",
              "      <td>delivered</td>\n",
              "      <td>2017-11-07 18:04:59</td>\n",
              "      <td>1</td>\n",
              "      <td>87285b34884572647811a353c7ac498a</td>\n",
              "      <td>29.99</td>\n",
              "      <td>utilidades_domesticas</td>\n",
              "      <td>florianopolis</td>\n",
              "      <td>SC</td>\n",
              "    </tr>\n",
              "    <tr>\n",
              "      <th>4</th>\n",
              "      <td>53cdb2fc8bc7dce0b6741e2150273451</td>\n",
              "      <td>b0830fb4747a6c6d20dea0b8c802d7ef</td>\n",
              "      <td>delivered</td>\n",
              "      <td>2018-08-07 15:27:45</td>\n",
              "      <td>1</td>\n",
              "      <td>595fac2a385ac33a80bd5114aec74eb8</td>\n",
              "      <td>118.70</td>\n",
              "      <td>perfumaria</td>\n",
              "      <td>barreiras</td>\n",
              "      <td>BA</td>\n",
              "    </tr>\n",
              "    <tr>\n",
              "      <th>5</th>\n",
              "      <td>40c5e18f7d112b59b3e5113a59a905b3</td>\n",
              "      <td>67407057a7d5ee17d1cd09523f484d13</td>\n",
              "      <td>delivered</td>\n",
              "      <td>2018-06-19 00:31:13</td>\n",
              "      <td>1</td>\n",
              "      <td>595fac2a385ac33a80bd5114aec74eb8</td>\n",
              "      <td>119.90</td>\n",
              "      <td>perfumaria</td>\n",
              "      <td>rio de janeiro</td>\n",
              "      <td>RJ</td>\n",
              "    </tr>\n",
              "    <tr>\n",
              "      <th>6</th>\n",
              "      <td>86674ccaee19790309333210917b2c7d</td>\n",
              "      <td>1b338293f35549b5e480b9a3d7bbf3cd</td>\n",
              "      <td>delivered</td>\n",
              "      <td>2018-08-14 18:51:47</td>\n",
              "      <td>1</td>\n",
              "      <td>595fac2a385ac33a80bd5114aec74eb8</td>\n",
              "      <td>116.90</td>\n",
              "      <td>perfumaria</td>\n",
              "      <td>ituverava</td>\n",
              "      <td>SP</td>\n",
              "    </tr>\n",
              "    <tr>\n",
              "      <th>7</th>\n",
              "      <td>f913d229653fdd809c249ed98ab6b754</td>\n",
              "      <td>e1365d7b227b247b6bc0931771885eaf</td>\n",
              "      <td>delivered</td>\n",
              "      <td>2018-05-08 17:53:51</td>\n",
              "      <td>1</td>\n",
              "      <td>595fac2a385ac33a80bd5114aec74eb8</td>\n",
              "      <td>119.90</td>\n",
              "      <td>perfumaria</td>\n",
              "      <td>porto alegre</td>\n",
              "      <td>RS</td>\n",
              "    </tr>\n",
              "    <tr>\n",
              "      <th>8</th>\n",
              "      <td>9b85bbefeeacfebc3ff603d20511734f</td>\n",
              "      <td>7f4f07b97783e894fccff9d72e0988b3</td>\n",
              "      <td>delivered</td>\n",
              "      <td>2017-12-07 19:48:32</td>\n",
              "      <td>1</td>\n",
              "      <td>595fac2a385ac33a80bd5114aec74eb8</td>\n",
              "      <td>109.90</td>\n",
              "      <td>perfumaria</td>\n",
              "      <td>florianopolis</td>\n",
              "      <td>SC</td>\n",
              "    </tr>\n",
              "    <tr>\n",
              "      <th>9</th>\n",
              "      <td>6164d50a564536f9c8081d0358573bad</td>\n",
              "      <td>ff83b1b9ffb0f2f60273867bb26f671e</td>\n",
              "      <td>delivered</td>\n",
              "      <td>2018-08-14 20:04:39</td>\n",
              "      <td>1</td>\n",
              "      <td>595fac2a385ac33a80bd5114aec74eb8</td>\n",
              "      <td>116.90</td>\n",
              "      <td>perfumaria</td>\n",
              "      <td>itauna</td>\n",
              "      <td>MG</td>\n",
              "    </tr>\n",
              "    <tr>\n",
              "      <th>10</th>\n",
              "      <td>df972aca1fba0a417674857678e2c4bb</td>\n",
              "      <td>322eae54daccdcbee96799ebd3a67830</td>\n",
              "      <td>delivered</td>\n",
              "      <td>2018-06-02 15:28:45</td>\n",
              "      <td>1</td>\n",
              "      <td>595fac2a385ac33a80bd5114aec74eb8</td>\n",
              "      <td>119.90</td>\n",
              "      <td>perfumaria</td>\n",
              "      <td>carapicuiba</td>\n",
              "      <td>SP</td>\n",
              "    </tr>\n",
              "    <tr>\n",
              "      <th>11</th>\n",
              "      <td>7c89d1b99dac4362bf2513afd0b14edd</td>\n",
              "      <td>a48acf545fc196fe1a22e67ba443504e</td>\n",
              "      <td>delivered</td>\n",
              "      <td>2018-08-28 21:07:31</td>\n",
              "      <td>1</td>\n",
              "      <td>595fac2a385ac33a80bd5114aec74eb8</td>\n",
              "      <td>117.00</td>\n",
              "      <td>perfumaria</td>\n",
              "      <td>sao paulo</td>\n",
              "      <td>SP</td>\n",
              "    </tr>\n",
              "    <tr>\n",
              "      <th>12</th>\n",
              "      <td>23450be385c992f3c2a398025c48db20</td>\n",
              "      <td>fa67ad79c559ad64c2831dfb5103a716</td>\n",
              "      <td>delivered</td>\n",
              "      <td>2017-12-19 22:12:26</td>\n",
              "      <td>1</td>\n",
              "      <td>595fac2a385ac33a80bd5114aec74eb8</td>\n",
              "      <td>118.00</td>\n",
              "      <td>perfumaria</td>\n",
              "      <td>sao paulo</td>\n",
              "      <td>SP</td>\n",
              "    </tr>\n",
              "    <tr>\n",
              "      <th>13</th>\n",
              "      <td>6552ae78f1de31bcde1fc2cfcab0d25d</td>\n",
              "      <td>ccb212cf6faf1356d9b5509259de0940</td>\n",
              "      <td>delivered</td>\n",
              "      <td>2018-06-18 20:34:58</td>\n",
              "      <td>1</td>\n",
              "      <td>595fac2a385ac33a80bd5114aec74eb8</td>\n",
              "      <td>119.90</td>\n",
              "      <td>perfumaria</td>\n",
              "      <td>presidente prudente</td>\n",
              "      <td>SP</td>\n",
              "    </tr>\n",
              "    <tr>\n",
              "      <th>14</th>\n",
              "      <td>aee682982e18eb4714ce9f97b15af5e2</td>\n",
              "      <td>8858442ea4d5dc5bb9e118e8f728095d</td>\n",
              "      <td>delivered</td>\n",
              "      <td>2018-07-12 18:14:35</td>\n",
              "      <td>1</td>\n",
              "      <td>595fac2a385ac33a80bd5114aec74eb8</td>\n",
              "      <td>118.70</td>\n",
              "      <td>perfumaria</td>\n",
              "      <td>ribeirao das neves</td>\n",
              "      <td>MG</td>\n",
              "    </tr>\n",
              "    <tr>\n",
              "      <th>15</th>\n",
              "      <td>21b966a378471db65c18fa4ca20d6800</td>\n",
              "      <td>f253cdb921536ec2a9ff9a11cab13aea</td>\n",
              "      <td>delivered</td>\n",
              "      <td>2018-08-27 17:32:06</td>\n",
              "      <td>1</td>\n",
              "      <td>595fac2a385ac33a80bd5114aec74eb8</td>\n",
              "      <td>116.90</td>\n",
              "      <td>perfumaria</td>\n",
              "      <td>osasco</td>\n",
              "      <td>SP</td>\n",
              "    </tr>\n",
              "    <tr>\n",
              "      <th>16</th>\n",
              "      <td>9ad9351ae71f76e5eba268bb2f667959</td>\n",
              "      <td>fcb084dadc25471f119e59cfe794aa99</td>\n",
              "      <td>delivered</td>\n",
              "      <td>2018-02-14 21:05:06</td>\n",
              "      <td>1</td>\n",
              "      <td>595fac2a385ac33a80bd5114aec74eb8</td>\n",
              "      <td>117.90</td>\n",
              "      <td>perfumaria</td>\n",
              "      <td>general salgado</td>\n",
              "      <td>SP</td>\n",
              "    </tr>\n",
              "    <tr>\n",
              "      <th>17</th>\n",
              "      <td>55d4ac8ab9f932ba5badbf6088b9a1c3</td>\n",
              "      <td>5342683414d08cd3656392950ecd915b</td>\n",
              "      <td>delivered</td>\n",
              "      <td>2017-11-13 11:21:35</td>\n",
              "      <td>1</td>\n",
              "      <td>595fac2a385ac33a80bd5114aec74eb8</td>\n",
              "      <td>142.50</td>\n",
              "      <td>perfumaria</td>\n",
              "      <td>igarapava</td>\n",
              "      <td>SP</td>\n",
              "    </tr>\n",
              "    <tr>\n",
              "      <th>18</th>\n",
              "      <td>0aaa4cd49d3624258b908c2abdf189cc</td>\n",
              "      <td>73ff91e90f718f4e4b183053504f0265</td>\n",
              "      <td>delivered</td>\n",
              "      <td>2017-12-26 20:09:28</td>\n",
              "      <td>1</td>\n",
              "      <td>595fac2a385ac33a80bd5114aec74eb8</td>\n",
              "      <td>118.00</td>\n",
              "      <td>perfumaria</td>\n",
              "      <td>juazeiro do norte</td>\n",
              "      <td>CE</td>\n",
              "    </tr>\n",
              "    <tr>\n",
              "      <th>19</th>\n",
              "      <td>d5bd0af0e37b739b88fa363a30301220</td>\n",
              "      <td>c611a87152a511b73b2b6d639cea5034</td>\n",
              "      <td>delivered</td>\n",
              "      <td>2017-11-25 13:57:58</td>\n",
              "      <td>1</td>\n",
              "      <td>595fac2a385ac33a80bd5114aec74eb8</td>\n",
              "      <td>109.90</td>\n",
              "      <td>perfumaria</td>\n",
              "      <td>sao paulo</td>\n",
              "      <td>SP</td>\n",
              "    </tr>\n",
              "  </tbody>\n",
              "</table>\n",
              "</div>"
            ],
            "text/plain": [
              "                            order_id                       customer_id  \\\n",
              "0   e481f51cbdc54678b7cc49136f2d6af7  9ef432eb6251297304e76186b10a928d   \n",
              "1   128e10d95713541c87cd1a2e48201934  a20e8105f23924cd00833fd87daa0831   \n",
              "2   0e7e841ddf8f8f2de2bad69267ecfbcf  26c7ac168e1433912a51b924fbd34d34   \n",
              "3   bfc39df4f36c3693ff3b63fcbea9e90a  53904ddbea91e1e92b2b3f1d09a7af86   \n",
              "4   53cdb2fc8bc7dce0b6741e2150273451  b0830fb4747a6c6d20dea0b8c802d7ef   \n",
              "5   40c5e18f7d112b59b3e5113a59a905b3  67407057a7d5ee17d1cd09523f484d13   \n",
              "6   86674ccaee19790309333210917b2c7d  1b338293f35549b5e480b9a3d7bbf3cd   \n",
              "7   f913d229653fdd809c249ed98ab6b754  e1365d7b227b247b6bc0931771885eaf   \n",
              "8   9b85bbefeeacfebc3ff603d20511734f  7f4f07b97783e894fccff9d72e0988b3   \n",
              "9   6164d50a564536f9c8081d0358573bad  ff83b1b9ffb0f2f60273867bb26f671e   \n",
              "10  df972aca1fba0a417674857678e2c4bb  322eae54daccdcbee96799ebd3a67830   \n",
              "11  7c89d1b99dac4362bf2513afd0b14edd  a48acf545fc196fe1a22e67ba443504e   \n",
              "12  23450be385c992f3c2a398025c48db20  fa67ad79c559ad64c2831dfb5103a716   \n",
              "13  6552ae78f1de31bcde1fc2cfcab0d25d  ccb212cf6faf1356d9b5509259de0940   \n",
              "14  aee682982e18eb4714ce9f97b15af5e2  8858442ea4d5dc5bb9e118e8f728095d   \n",
              "15  21b966a378471db65c18fa4ca20d6800  f253cdb921536ec2a9ff9a11cab13aea   \n",
              "16  9ad9351ae71f76e5eba268bb2f667959  fcb084dadc25471f119e59cfe794aa99   \n",
              "17  55d4ac8ab9f932ba5badbf6088b9a1c3  5342683414d08cd3656392950ecd915b   \n",
              "18  0aaa4cd49d3624258b908c2abdf189cc  73ff91e90f718f4e4b183053504f0265   \n",
              "19  d5bd0af0e37b739b88fa363a30301220  c611a87152a511b73b2b6d639cea5034   \n",
              "\n",
              "   order_status order_delivered_customer_date  order_item_id  \\\n",
              "0     delivered           2017-10-10 21:25:13              1   \n",
              "1     delivered           2017-08-18 14:44:43              1   \n",
              "2     delivered           2017-08-07 18:30:01              1   \n",
              "3     delivered           2017-11-07 18:04:59              1   \n",
              "4     delivered           2018-08-07 15:27:45              1   \n",
              "5     delivered           2018-06-19 00:31:13              1   \n",
              "6     delivered           2018-08-14 18:51:47              1   \n",
              "7     delivered           2018-05-08 17:53:51              1   \n",
              "8     delivered           2017-12-07 19:48:32              1   \n",
              "9     delivered           2018-08-14 20:04:39              1   \n",
              "10    delivered           2018-06-02 15:28:45              1   \n",
              "11    delivered           2018-08-28 21:07:31              1   \n",
              "12    delivered           2017-12-19 22:12:26              1   \n",
              "13    delivered           2018-06-18 20:34:58              1   \n",
              "14    delivered           2018-07-12 18:14:35              1   \n",
              "15    delivered           2018-08-27 17:32:06              1   \n",
              "16    delivered           2018-02-14 21:05:06              1   \n",
              "17    delivered           2017-11-13 11:21:35              1   \n",
              "18    delivered           2017-12-26 20:09:28              1   \n",
              "19    delivered           2017-11-25 13:57:58              1   \n",
              "\n",
              "                          product_id   price  product_category_name  \\\n",
              "0   87285b34884572647811a353c7ac498a   29.99  utilidades_domesticas   \n",
              "1   87285b34884572647811a353c7ac498a   29.99  utilidades_domesticas   \n",
              "2   87285b34884572647811a353c7ac498a   29.99  utilidades_domesticas   \n",
              "3   87285b34884572647811a353c7ac498a   29.99  utilidades_domesticas   \n",
              "4   595fac2a385ac33a80bd5114aec74eb8  118.70             perfumaria   \n",
              "5   595fac2a385ac33a80bd5114aec74eb8  119.90             perfumaria   \n",
              "6   595fac2a385ac33a80bd5114aec74eb8  116.90             perfumaria   \n",
              "7   595fac2a385ac33a80bd5114aec74eb8  119.90             perfumaria   \n",
              "8   595fac2a385ac33a80bd5114aec74eb8  109.90             perfumaria   \n",
              "9   595fac2a385ac33a80bd5114aec74eb8  116.90             perfumaria   \n",
              "10  595fac2a385ac33a80bd5114aec74eb8  119.90             perfumaria   \n",
              "11  595fac2a385ac33a80bd5114aec74eb8  117.00             perfumaria   \n",
              "12  595fac2a385ac33a80bd5114aec74eb8  118.00             perfumaria   \n",
              "13  595fac2a385ac33a80bd5114aec74eb8  119.90             perfumaria   \n",
              "14  595fac2a385ac33a80bd5114aec74eb8  118.70             perfumaria   \n",
              "15  595fac2a385ac33a80bd5114aec74eb8  116.90             perfumaria   \n",
              "16  595fac2a385ac33a80bd5114aec74eb8  117.90             perfumaria   \n",
              "17  595fac2a385ac33a80bd5114aec74eb8  142.50             perfumaria   \n",
              "18  595fac2a385ac33a80bd5114aec74eb8  118.00             perfumaria   \n",
              "19  595fac2a385ac33a80bd5114aec74eb8  109.90             perfumaria   \n",
              "\n",
              "          customer_city customer_state  \n",
              "0             sao paulo             SP  \n",
              "1             sao paulo             SP  \n",
              "2             sao paulo             SP  \n",
              "3         florianopolis             SC  \n",
              "4             barreiras             BA  \n",
              "5        rio de janeiro             RJ  \n",
              "6             ituverava             SP  \n",
              "7          porto alegre             RS  \n",
              "8         florianopolis             SC  \n",
              "9                itauna             MG  \n",
              "10          carapicuiba             SP  \n",
              "11            sao paulo             SP  \n",
              "12            sao paulo             SP  \n",
              "13  presidente prudente             SP  \n",
              "14   ribeirao das neves             MG  \n",
              "15               osasco             SP  \n",
              "16      general salgado             SP  \n",
              "17            igarapava             SP  \n",
              "18    juazeiro do norte             CE  \n",
              "19            sao paulo             SP  "
            ]
          },
          "execution_count": 18,
          "metadata": {},
          "output_type": "execute_result"
        }
      ],
      "source": [
        "#Drop Column which we won't use it\n",
        "column_to_drop = ['order_purchase_timestamp','order_approved_at','order_delivered_carrier_date','order_estimated_delivery_date','seller_id','shipping_limit_date','freight_value','product_name_lenght','product_description_lenght','product_photos_qty','product_weight_g','product_length_cm','product_height_cm','product_width_cm','customer_unique_id','customer_zip_code_prefix']\n",
        "order_product.drop(column_to_drop,axis=1,inplace=True)\n",
        "order_product.head(20)"
      ]
    },
    {
      "cell_type": "markdown",
      "metadata": {
        "id": "gp-Y6wU38DC1"
      },
      "source": [
        "## Exploratory Data Analysis (EDA)"
      ]
    },
    {
      "cell_type": "markdown",
      "metadata": {
        "id": "MW7WF2kr8DC1"
      },
      "source": [
        "### Explore ..."
      ]
    },
    {
      "cell_type": "markdown",
      "metadata": {
        "id": "ZnzcBtTrMrSA"
      },
      "source": [
        "#### Question 1"
      ]
    },
    {
      "cell_type": "markdown",
      "metadata": {
        "id": "X1_6BeKTMrSA"
      },
      "source": [
        "Eksplorasi Review score"
      ]
    },
    {
      "cell_type": "code",
      "execution_count": 19,
      "metadata": {
        "colab": {
          "base_uri": "https://localhost:8080/"
        },
        "id": "e9CQCZjk8DC2",
        "outputId": "00681f9e-6144-4eb3-9158-74d4abec45b0"
      },
      "outputs": [
        {
          "data": {
            "text/plain": [
              "count    112372.000000\n",
              "mean          4.032473\n",
              "std           1.387849\n",
              "min           1.000000\n",
              "25%           4.000000\n",
              "50%           5.000000\n",
              "75%           5.000000\n",
              "max           5.000000\n",
              "Name: review_score, dtype: float64"
            ]
          },
          "execution_count": 19,
          "metadata": {},
          "output_type": "execute_result"
        }
      ],
      "source": [
        "itemreviews_seller[\"review_score\"].describe()"
      ]
    },
    {
      "cell_type": "markdown",
      "metadata": {
        "id": "eEooD0obMrSB"
      },
      "source": [
        "Eksplorasi review score terendah pada setiap wilayah"
      ]
    },
    {
      "cell_type": "code",
      "execution_count": 20,
      "metadata": {
        "colab": {
          "base_uri": "https://localhost:8080/"
        },
        "id": "3TMyTBPcMrSC",
        "outputId": "8eb78c13-7800-42a8-c33e-03a50a98f249"
      },
      "outputs": [
        {
          "name": "stdout",
          "output_type": "stream",
          "text": [
            "              review_score\n",
            "seller_state              \n",
            "PA                4.500000\n",
            "MS                4.469388\n",
            "RN                4.267857\n",
            "GO                4.254826\n",
            "RS                4.214351\n",
            "MT                4.165517\n",
            "CE                4.138298\n",
            "PE                4.132584\n",
            "MG                4.105868\n",
            "RJ                4.101670\n",
            "SC                4.093865\n",
            "BA                4.090202\n",
            "PI                4.083333\n",
            "PR                4.072292\n",
            "DF                4.033333\n",
            "ES                4.005450\n",
            "SP                4.005078\n",
            "MA                4.002506\n",
            "SE                3.900000\n",
            "PB                3.864865\n",
            "RO                3.857143\n",
            "AM                2.333333\n",
            "AC                1.000000\n"
          ]
        }
      ],
      "source": [
        "state_mean_score = itemreviews_seller.groupby('seller_state')['review_score'].mean()\n",
        "state_mean_score_sorted = state_mean_score.sort_values(ascending=False)\n",
        "state_mean_score_sorted_df = pd.DataFrame(state_mean_score_sorted)\n",
        "print(state_mean_score_sorted_df)"
      ]
    },
    {
      "cell_type": "markdown",
      "metadata": {
        "id": "Pf0N6CyBNiDP"
      },
      "source": [
        "Eksplorasi seller dengan review score terendah hinga tertinggi"
      ]
    },
    {
      "cell_type": "code",
      "execution_count": 21,
      "metadata": {
        "colab": {
          "base_uri": "https://localhost:8080/"
        },
        "id": "NVBjihlQNvoo",
        "outputId": "03aa8149-d86c-44f1-8a02-d1d5b9e2c4a3"
      },
      "outputs": [
        {
          "data": {
            "text/plain": [
              "seller_id                         seller_state\n",
              "6d04126aba80df143fd038e711b8fd96  RJ              1.0\n",
              "b6c6854d4d92a5f6f46be8869da3fa1a  SP              1.0\n",
              "34aefe746cd81b7f3b23253ea28bef39  PR              1.0\n",
              "b7ba853e9551f4558440881fd3e5c815  RS              1.0\n",
              "17adeba047385fb0c67d8e90b4296d21  SP              1.0\n",
              "                                                 ... \n",
              "d7827b2af99326a03b0ed9c7a24db0d3  SP              5.0\n",
              "4aba6a02a788d3ec81c03137144d9a80  SC              5.0\n",
              "94ca168e8bcb407ab85c5da308863027  SP              5.0\n",
              "95cca791657aabeff15a07eb152d7841  PR              5.0\n",
              "186cdd1b2df32caa72cfb410bba768d3  SC              5.0\n",
              "Name: review_score, Length: 3090, dtype: float64"
            ]
          },
          "execution_count": 21,
          "metadata": {},
          "output_type": "execute_result"
        }
      ],
      "source": [
        "seller_mean_score = itemreviews_seller.groupby(['seller_id','seller_state'])['review_score'].mean()\n",
        "seller_mean_score_sorted = seller_mean_score.sort_values(ascending=True)\n",
        "seller_mean_score_sorted"
      ]
    },
    {
      "cell_type": "markdown",
      "metadata": {
        "id": "nJ63U2K4R-Y6"
      },
      "source": [
        "Kategorikan seller dengan rating < 3 degan wilayahnya\n"
      ]
    },
    {
      "cell_type": "code",
      "execution_count": 22,
      "metadata": {
        "colab": {
          "base_uri": "https://localhost:8080/"
        },
        "id": "DX5GedH7SEN3",
        "outputId": "7cc2dbbd-3c18-4773-bbef-7b2f5fe1b9e5"
      },
      "outputs": [
        {
          "name": "stdout",
          "output_type": "stream",
          "text": [
            "              review_score\n",
            "seller_state              \n",
            "SP                     205\n",
            "PR                      39\n",
            "MG                      25\n",
            "SC                      22\n",
            "RS                      18\n",
            "RJ                      16\n",
            "CE                       4\n",
            "DF                       4\n",
            "BA                       2\n",
            "GO                       2\n",
            "AC                       1\n",
            "AM                       1\n",
            "ES                       1\n",
            "PE                       1\n",
            "RN                       1\n"
          ]
        }
      ],
      "source": [
        "bad_seller = seller_mean_score_sorted[seller_mean_score_sorted < 3]\n",
        "bad_seller_grouped = bad_seller.groupby(level=1).count()\n",
        "bad_seller_grouped_sort = bad_seller_grouped.sort_values(ascending=False)\n",
        "bad_seller_grouped_sort_df = pd.DataFrame(bad_seller_grouped_sort)\n",
        "print(bad_seller_grouped_sort_df)"
      ]
    },
    {
      "cell_type": "markdown",
      "metadata": {
        "id": "PMX_52NlMrSD"
      },
      "source": [
        "#### Question 2"
      ]
    },
    {
      "cell_type": "markdown",
      "metadata": {
        "id": "vEXM2XjfwzMq"
      },
      "source": [
        "Total penjualan pada setiap wilayah"
      ]
    },
    {
      "cell_type": "code",
      "execution_count": 23,
      "metadata": {
        "colab": {
          "base_uri": "https://localhost:8080/"
        },
        "id": "k1tRgEzQwvrc",
        "outputId": "07e6e4d9-1b62-40c3-a551-5f1541d78b3f"
      },
      "outputs": [
        {
          "name": "stdout",
          "output_type": "stream",
          "text": [
            "customer_state\n",
            "SP    40488\n",
            "RJ    12348\n",
            "MG    11351\n",
            "RS     5342\n",
            "PR     4923\n",
            "SC     3546\n",
            "BA     3256\n",
            "DF     2080\n",
            "ES     1995\n",
            "GO     1957\n",
            "PE     1593\n",
            "CE     1278\n",
            "PA      946\n",
            "MT      886\n",
            "MA      716\n",
            "MS      701\n",
            "PB      517\n",
            "PI      476\n",
            "RN      474\n",
            "AL      397\n",
            "SE      335\n",
            "TO      274\n",
            "RO      243\n",
            "AM      145\n",
            "AC       80\n",
            "AP       67\n",
            "RR       41\n",
            "Name: order_id, dtype: int64\n"
          ]
        }
      ],
      "source": [
        "delivered_orders = order_and_customer[order_and_customer['order_status']=='delivered']\n",
        "delivered_byregion = delivered_orders.groupby('customer_state')['order_id'].count()\n",
        "delivered_byregion_sorted = delivered_byregion.sort_values(ascending=False)\n",
        "print(delivered_byregion_sorted)"
      ]
    },
    {
      "cell_type": "markdown",
      "metadata": {
        "id": "_7SWMzIyxPzn"
      },
      "source": [
        "Total Penjualan berdasarkan waktu (Bulan) menggunakan order_id"
      ]
    },
    {
      "cell_type": "code",
      "execution_count": 24,
      "metadata": {
        "colab": {
          "base_uri": "https://localhost:8080/"
        },
        "id": "I0y2ExIvxT2s",
        "outputId": "f61f466d-5f24-4c61-962f-b0abe26cd560"
      },
      "outputs": [
        {
          "name": "stdout",
          "output_type": "stream",
          "text": [
            "                               Total Order\n",
            "order_delivered_customer_date             \n",
            "2016-10                                208\n",
            "2016-11                                 60\n",
            "2016-12                                  4\n",
            "2017-01                                282\n",
            "2017-02                               1350\n",
            "2017-03                               2370\n",
            "2017-04                               1849\n",
            "2017-05                               3751\n",
            "2017-06                               3223\n",
            "2017-07                               3455\n",
            "2017-08                               4302\n",
            "2017-09                               3965\n",
            "2017-10                               4494\n",
            "2017-11                               4669\n",
            "2017-12                               7205\n",
            "2018-01                               6597\n",
            "2018-02                               5850\n",
            "2018-03                               6825\n",
            "2018-04                               7850\n",
            "2018-05                               7111\n",
            "2018-06                               6829\n",
            "2018-07                               5839\n",
            "2018-08                               8314\n",
            "2018-09                                 56\n",
            "2018-10                                  3\n"
          ]
        }
      ],
      "source": [
        "order_and_customer['order_delivered_customer_date'] = pd.to_datetime(order_and_customer['order_delivered_customer_date'])\n",
        "total_bymonth = order_and_customer.groupby(order_and_customer['order_delivered_customer_date'].dt.to_period('M'))['order_id'].count()\n",
        "total_bymonth_df = pd.DataFrame(total_bymonth)\n",
        "total_bymonth_df.rename(columns={ \"order_id\":\"Total Order\"}, inplace = True)\n",
        "print(total_bymonth_df)\n",
        "total_bymonth_df.index = total_bymonth_df.index.strftime('%Y-%B')"
      ]
    },
    {
      "cell_type": "markdown",
      "metadata": {
        "id": "5zWjj3w11Jk3"
      },
      "source": [
        "Total Penjualan Berdasarkan Tahun"
      ]
    },
    {
      "cell_type": "code",
      "execution_count": 25,
      "metadata": {
        "colab": {
          "base_uri": "https://localhost:8080/"
        },
        "id": "3o3q6YGm1NgR",
        "outputId": "2ab0d172-6b9f-4608-a200-2868a2413ed9"
      },
      "outputs": [
        {
          "name": "stdout",
          "output_type": "stream",
          "text": [
            "                               Total Order\n",
            "order_delivered_customer_date             \n",
            "2016                                   272\n",
            "2017                                 40915\n",
            "2018                                 55274\n"
          ]
        }
      ],
      "source": [
        "total_byyear = order_and_customer.groupby(order_and_customer['order_delivered_customer_date'].dt.to_period('Y'))['order_id'].count()\n",
        "total_byyear_df = pd.DataFrame(total_byyear)\n",
        "total_byyear_df.rename(columns={ \"order_id\":\"Total Order\"}, inplace = True)\n",
        "print(total_byyear_df)\n",
        "total_byyear_df.index = total_byyear_df.index.strftime('%Y')"
      ]
    },
    {
      "cell_type": "markdown",
      "metadata": {
        "id": "BxY4yjnzblqD"
      },
      "source": [
        "#### Question 3"
      ]
    },
    {
      "cell_type": "markdown",
      "metadata": {
        "id": "FuAo4Qk1btNR"
      },
      "source": [
        "Average expenditure of each region"
      ]
    },
    {
      "cell_type": "code",
      "execution_count": 26,
      "metadata": {
        "colab": {
          "base_uri": "https://localhost:8080/"
        },
        "id": "Mkd35uPHbnv3",
        "outputId": "1616b71c-99b3-45e8-aaa0-b052ba9c02b6"
      },
      "outputs": [
        {
          "name": "stdout",
          "output_type": "stream",
          "text": [
            "                     price\n",
            "customer_state            \n",
            "PB              190.369653\n",
            "AL              185.060851\n",
            "AC              178.247978\n",
            "RO              168.925468\n",
            "AP              165.121111\n",
            "PI              163.075252\n",
            "PA              160.155917\n",
            "RN              158.305087\n",
            "TO              156.763137\n",
            "RR              154.806591\n",
            "CE              153.718929\n",
            "SE              151.207614\n",
            "MT              147.462654\n",
            "MA              146.157332\n",
            "PE              143.790981\n",
            "MS              143.134676\n",
            "BA              134.526949\n",
            "AM              134.248696\n",
            "DF              126.525867\n",
            "RJ              124.680375\n",
            "SC              123.864653\n",
            "GO              123.283861\n",
            "ES              120.991926\n",
            "MG              120.468369\n",
            "RS              119.361295\n",
            "PR              118.044559\n",
            "SP              109.207789\n"
          ]
        }
      ],
      "source": [
        "state_mean_price = order_product.groupby('customer_state')['price'].mean()\n",
        "state_mean_price_sorted = state_mean_price.sort_values(ascending=False)\n",
        "state_mean_price_sorted_df = pd.DataFrame(state_mean_price_sorted)\n",
        "print(state_mean_price_sorted_df)"
      ]
    },
    {
      "cell_type": "markdown",
      "metadata": {
        "id": "DZGK5-ZJdpgd"
      },
      "source": [
        "Products with the highest purchases in the 3 regions with the highest purchases"
      ]
    },
    {
      "cell_type": "code",
      "execution_count": 27,
      "metadata": {
        "colab": {
          "base_uri": "https://localhost:8080/"
        },
        "id": "VXSb1ybyd6OM",
        "outputId": "f8c6c65e-f30e-48b1-fd80-351185c9a001"
      },
      "outputs": [
        {
          "name": "stdout",
          "output_type": "stream",
          "text": [
            "  customer_state   product_category_name  count\n",
            "0             AC        moveis_decoracao     12\n",
            "1             AC           esporte_lazer      9\n",
            "2             AC  informatica_acessorios      8\n",
            "3             AL            beleza_saude     62\n",
            "4             AL  informatica_acessorios     39\n",
            "5             AL      relogios_presentes     35\n",
            "6             PB            beleza_saude     76\n",
            "7             PB  informatica_acessorios     53\n",
            "8             PB        moveis_decoracao     42\n"
          ]
        }
      ],
      "source": [
        "state = ['PB', 'AL', 'AC']\n",
        "new_order_product = order_product[order_product['customer_state'].isin(state)]\n",
        "\n",
        "new_order_product_df = pd.DataFrame(new_order_product)\n",
        "state_top_categories = new_order_product.groupby('customer_state')['product_category_name'].value_counts().reset_index(name='count')\n",
        "state_top3_categories = state_top_categories.groupby('customer_state').apply(lambda x: x.nlargest(3, 'count')).reset_index(drop=True)\n",
        "\n",
        "print(state_top3_categories)"
      ]
    },
    {
      "cell_type": "markdown",
      "metadata": {
        "id": "zsyZjqak8DC2"
      },
      "source": [
        "## Visualization & Explanatory Analysis"
      ]
    },
    {
      "cell_type": "markdown",
      "metadata": {
        "id": "HZxOiQ6n8DC2"
      },
      "source": [
        "### Question 1: [Customer Segment Analysis] What is the level of customer satisfaction with the distribution of sellers?"
      ]
    },
    {
      "cell_type": "code",
      "execution_count": 28,
      "metadata": {
        "colab": {
          "base_uri": "https://localhost:8080/",
          "height": 624
        },
        "id": "1swJUdAD8DC2",
        "outputId": "bae5798e-c770-47a5-d004-731ffc412b80"
      },
      "outputs": [
        {
          "name": "stderr",
          "output_type": "stream",
          "text": [
            "C:\\Users\\ASUS\\AppData\\Local\\Temp\\ipykernel_9288\\465603243.py:3: FutureWarning: \n",
            "\n",
            "Passing `palette` without assigning `hue` is deprecated and will be removed in v0.14.0. Assign the `x` variable to `hue` and set `legend=False` for the same effect.\n",
            "\n",
            "  sns.barplot(x=\"seller_state\",y=\"review_score\", data = state_mean_score_sorted_df, palette = colors, ax=ax[0] )\n",
            "C:\\Users\\ASUS\\AppData\\Local\\Temp\\ipykernel_9288\\465603243.py:3: UserWarning: \n",
            "The palette list has fewer values (3) than needed (23) and will cycle, which may produce an uninterpretable plot.\n",
            "  sns.barplot(x=\"seller_state\",y=\"review_score\", data = state_mean_score_sorted_df, palette = colors, ax=ax[0] )\n",
            "C:\\Users\\ASUS\\AppData\\Local\\Temp\\ipykernel_9288\\465603243.py:9: FutureWarning: \n",
            "\n",
            "Passing `palette` without assigning `hue` is deprecated and will be removed in v0.14.0. Assign the `x` variable to `hue` and set `legend=False` for the same effect.\n",
            "\n",
            "  sns.barplot(x=\"seller_state\",y=\"review_score\", data = bad_seller_grouped_sort_df, palette = colors, ax=ax[1] )\n",
            "C:\\Users\\ASUS\\AppData\\Local\\Temp\\ipykernel_9288\\465603243.py:9: UserWarning: \n",
            "The palette list has fewer values (3) than needed (15) and will cycle, which may produce an uninterpretable plot.\n",
            "  sns.barplot(x=\"seller_state\",y=\"review_score\", data = bad_seller_grouped_sort_df, palette = colors, ax=ax[1] )\n"
          ]
        },
        {
          "data": {
            "image/png": "[encoded data removed]",
            "text/plain": [
              "<Figure size 2400x600 with 2 Axes>"
            ]
          },
          "metadata": {},
          "output_type": "display_data"
        }
      ],
      "source": [
        "fig, ax = plt.subplots(nrows=1, ncols=2, figsize=(24, 6))\n",
        "colors = [\"#094e89\",\"#2096be\",\"#a1e0e7\"]\n",
        "sns.barplot(x=\"seller_state\",y=\"review_score\", data = state_mean_score_sorted_df, palette = colors, ax=ax[0] )\n",
        "ax[0].set_ylabel(None)\n",
        "ax[0].set_xlabel(None)\n",
        "ax[0].set_title(\"Best State Review from Customer\", loc=\"center\", fontsize=15)\n",
        "ax[0].tick_params(axis ='y', labelsize=12)\n",
        "\n",
        "sns.barplot(x=\"seller_state\",y=\"review_score\", data = bad_seller_grouped_sort_df, palette = colors, ax=ax[1] )\n",
        "ax[1].set_ylabel(None)\n",
        "ax[1].set_xlabel(None)\n",
        "ax[1].set_title(\"Most State has Bad Sellers\", loc=\"center\", fontsize=15)\n",
        "ax[1].tick_params(axis ='y', labelsize=12)"
      ]
    },
    {
      "cell_type": "markdown",
      "metadata": {
        "id": "PGM6ylDBpLfC"
      },
      "source": [
        "It can be seen on the left graph, there are several states with the highest to lowest customer ratings. On the far left, there is a state \"PA\" with the highest review score. This indicates that sellers in this region have a good reputation. Then, on the far right, there is the state \"AC\" with the lowest average review score. This indicates that sellers in this region have a bad reputation.\n",
        "\n",
        "\n",
        "\n",
        "On the right graph, it can be seen that state \"SP\" has the highest total bad sellers. This indicates the need for action and attention to the sellers in this region.\n"
      ]
    },
    {
      "cell_type": "markdown",
      "metadata": {
        "id": "DgHI7CiU8DC2"
      },
      "source": [
        "### Question 2: [Sales Efficiency Analysis] What has been the sales trend in the last few months?"
      ]
    },
    {
      "cell_type": "code",
      "execution_count": 29,
      "metadata": {
        "colab": {
          "base_uri": "https://localhost:8080/",
          "height": 385
        },
        "id": "Go0lCsvO8DC2",
        "outputId": "a9ff6aa2-ce79-48b7-a579-91b8b4a1cbd7"
      },
      "outputs": [
        {
          "name": "stderr",
          "output_type": "stream",
          "text": [
            "C:\\Users\\ASUS\\AppData\\Local\\Temp\\ipykernel_9288\\1128494732.py:4: UserWarning: set_ticklabels() should only be used with a fixed number of ticks, i.e. after set_ticks() or using a FixedLocator.\n",
            "  ax[1].set_xticklabels(total_bymonth_df.index, rotation='vertical')\n",
            "C:\\Users\\ASUS\\AppData\\Local\\Temp\\ipykernel_9288\\1128494732.py:10: UserWarning: set_ticklabels() should only be used with a fixed number of ticks, i.e. after set_ticks() or using a FixedLocator.\n",
            "  ax[0].set_xticklabels(total_byyear_df.index, rotation='horizontal')\n"
          ]
        },
        {
          "data": {
            "text/plain": [
              "Text(0.5, 1.0, 'Total Orders per Year Chart')"
            ]
          },
          "execution_count": 29,
          "metadata": {},
          "output_type": "execute_result"
        },
        {
          "data": {
            "image/png": "[encoded data removed]",
            "text/plain": [
              "<Figure size 2400x600 with 2 Axes>"
            ]
          },
          "metadata": {},
          "output_type": "display_data"
        }
      ],
      "source": [
        "fig, ax = plt.subplots(nrows=1, ncols=2, figsize=(24, 6))\n",
        "colors = [\"#72BCD4\", \"#D3D3D3\", \"#D3D3D3\", \"#D3D3D3\", \"#D3D3D3\"]\n",
        "ax[1].plot(total_bymonth_df.index,total_bymonth_df[\"Total Order\"], marker='o', linewidth=2, color=\"#72BCD4\" )\n",
        "ax[1].set_xticklabels(total_bymonth_df.index, rotation='vertical')\n",
        "ax[1].set_xlabel('Month')\n",
        "ax[1].set_ylabel('Total Order')\n",
        "ax[1].set_title('Total Orders per Month Chart')\n",
        "\n",
        "ax[0].plot(total_byyear_df.index,total_byyear_df[\"Total Order\"], marker='o', linewidth=2, color=\"#72BCD4\" )\n",
        "ax[0].set_xticklabels(total_byyear_df.index, rotation='horizontal')\n",
        "ax[0].set_xlabel('Year')\n",
        "ax[0].set_ylabel('Total Order')\n",
        "ax[0].set_title('Total Orders per Year Chart')"
      ]
    },
    {
      "cell_type": "markdown",
      "metadata": {
        "id": "-g_RkKytrk1L"
      },
      "source": [
        "On the left graph, it is explained that there was an increase in sales from 2016 to 2018. If you look in more detail at the right graph, you can see the sales trend for each month. It can be obtained information that the highest sales were in August 2018 and the lowest sales were in October 2018. Sales in September 2018 had a very significant decrease from the previous month."
      ]
    },
    {
      "cell_type": "markdown",
      "metadata": {
        "id": "CTQ8HZ6tk7ud"
      },
      "source": [
        "### Question 3: [Sales Efficiency Analysis] What is the average revenue on product sales in each region? What is the most sold product in the top 3 regions?"
      ]
    },
    {
      "cell_type": "code",
      "execution_count": 30,
      "metadata": {
        "colab": {
          "base_uri": "https://localhost:8080/",
          "height": 596
        },
        "id": "brjDDJxllFjL",
        "outputId": "b28ceb2b-b505-4c89-c0f2-83de09e800af"
      },
      "outputs": [
        {
          "name": "stderr",
          "output_type": "stream",
          "text": [
            "C:\\Users\\ASUS\\AppData\\Local\\Temp\\ipykernel_9288\\504058828.py:3: FutureWarning: \n",
            "\n",
            "Passing `palette` without assigning `hue` is deprecated and will be removed in v0.14.0. Assign the `x` variable to `hue` and set `legend=False` for the same effect.\n",
            "\n",
            "  sns.barplot(x=\"customer_state\",y=\"price\", data = state_mean_price_sorted_df, palette = colors, ax=ax )\n",
            "C:\\Users\\ASUS\\AppData\\Local\\Temp\\ipykernel_9288\\504058828.py:3: UserWarning: \n",
            "The palette list has fewer values (3) than needed (27) and will cycle, which may produce an uninterpretable plot.\n",
            "  sns.barplot(x=\"customer_state\",y=\"price\", data = state_mean_price_sorted_df, palette = colors, ax=ax )\n"
          ]
        },
        {
          "data": {
            "image/png": "[encoded data removed]",
            "text/plain": [
              "<Figure size 1200x600 with 1 Axes>"
            ]
          },
          "metadata": {},
          "output_type": "display_data"
        }
      ],
      "source": [
        "fig, ax = plt.subplots(nrows=1, ncols=1, figsize=(12, 6))\n",
        "colors = [\"#094e89\",\"#2096be\",\"#a1e0e7\"]\n",
        "sns.barplot(x=\"customer_state\",y=\"price\", data = state_mean_price_sorted_df, palette = colors, ax=ax )\n",
        "ax.set_ylabel(None)\n",
        "ax.set_xlabel(None)\n",
        "ax.set_title(\"Average purchases by region\", loc=\"center\", fontsize=15)\n",
        "ax.tick_params(axis ='y', labelsize=12)\n",
        "\n"
      ]
    },
    {
      "cell_type": "markdown",
      "metadata": {
        "id": "QgU0ST0ksJtO"
      },
      "source": [
        "It can be seen that state \"PB\" has the highest average purchase price, followed by state \"AL\" and \"AC\". In state \"SP\", the average money spent by each buyer is ranked the lowest."
      ]
    },
    {
      "cell_type": "code",
      "execution_count": 31,
      "metadata": {
        "colab": {
          "base_uri": "https://localhost:8080/",
          "height": 862
        },
        "id": "DNteOS6umUqr",
        "outputId": "402ed179-21df-4b95-ba76-f69bef1fe1aa"
      },
      "outputs": [
        {
          "name": "stderr",
          "output_type": "stream",
          "text": [
            "C:\\Users\\ASUS\\AppData\\Local\\Temp\\ipykernel_9288\\81372413.py:13: UserWarning: set_ticklabels() should only be used with a fixed number of ticks, i.e. after set_ticks() or using a FixedLocator.\n",
            "  ax.set_xticklabels(data_st['product_category_name'], rotation=25, ha='right')  # Set horizontal rotation and placement\n",
            "C:\\Users\\ASUS\\AppData\\Local\\Temp\\ipykernel_9288\\81372413.py:13: UserWarning: set_ticklabels() should only be used with a fixed number of ticks, i.e. after set_ticks() or using a FixedLocator.\n",
            "  ax.set_xticklabels(data_st['product_category_name'], rotation=25, ha='right')  # Set horizontal rotation and placement\n",
            "C:\\Users\\ASUS\\AppData\\Local\\Temp\\ipykernel_9288\\81372413.py:13: UserWarning: set_ticklabels() should only be used with a fixed number of ticks, i.e. after set_ticks() or using a FixedLocator.\n",
            "  ax.set_xticklabels(data_st['product_category_name'], rotation=25, ha='right')  # Set horizontal rotation and placement\n"
          ]
        },
        {
          "data": {
            "image/png": "[encoded data removed]",
            "text/plain": [
              "<Figure size 500x800 with 3 Axes>"
            ]
          },
          "metadata": {},
          "output_type": "display_data"
        }
      ],
      "source": [
        "fig, axes = plt.subplots(nrows=len(state), ncols=1, figsize=(5, 8))\n",
        "\n",
        "for i, st in enumerate(state):\n",
        "    data_st = state_top3_categories[state_top3_categories['customer_state'] == st]\n",
        "    ax = axes[i]\n",
        "    bars = ax.bar(data_st['product_category_name'], data_st['count'], color='skyblue')\n",
        "    ax.set_title('Top 3 Product Categories in ' + st)\n",
        "    ax.set_ylabel('Count')\n",
        "    ax.set_xlabel('Product Category')\n",
        "    ax.grid(axis='y', linestyle='--', alpha=0.7)\n",
        "\n",
        "    # Rotate x-axis labels\n",
        "    ax.set_xticklabels(data_st['product_category_name'], rotation=25, ha='right')  # Set horizontal rotation and placement\n",
        "\n",
        "    # Add a label above the bar\n",
        "    for bar in bars:\n",
        "        height = bar.get_height()\n",
        "        ax.annotate('{}'.format(height),\n",
        "                    xy=(bar.get_x() + bar.get_width() / 2, height),\n",
        "                    xytext=(0, 3),  # 3 points vertical offset\n",
        "                    textcoords=\"offset points\",\n",
        "                    ha='center', va='bottom')\n",
        "\n",
        "plt.tight_layout()\n",
        "plt.show()"
      ]
    },
    {
      "cell_type": "markdown",
      "metadata": {
        "id": "IsOzjn48s9FP"
      },
      "source": [
        "It can be seen that the most product purchases in state \"PB\" are beleza_saude, informatica_acessoris, and movies_decoracao. Then for state \"AL\" are beleza_saude, informatica_acessoris, and relogios_presentes. In addition, in state \"AC\" for the most product purchases are movies_decoracao, esporte_lazer, informatica_acessorios"
      ]
    },
    {
      "cell_type": "markdown",
      "metadata": {
        "id": "_WeHlCeX8DC2"
      },
      "source": [
        "## Conclusion"
      ]
    },
    {
      "cell_type": "markdown",
      "metadata": {
        "id": "ZTcyR48Y8DC2"
      },
      "source": [
        "- Conclusion of Question 1\n",
        "\n",
        "  - The state with the highest review score is the \"PA\" state. Then, the state with the lowest review score is state \"AC\". The number of sellers with the lowest review score is in state \"SP\". This can be a consideration for evaluating the state so that performance and customer ratings increase.\n",
        "\n",
        "- Conclusion of Question 2\n",
        "  - It can be concluded that the number of sales in the last three years has increased. However, in September and October there was a very significant decline from the previous few months. This information can be used as a reference to evaluate the company so that sales can rise as before.\n",
        "\n",
        "- Conclusion of Question 3\n",
        "  - It can be concluded that sales are highest in the 3 regions with the highest average shopping costs as follows:\n",
        "    - In state \"AL\" are beleza_saude, informatica_acessories, and relogois_presentes.\n",
        "    - In state \"PB\" are beleza_saude, informatica_acessories, and moveis_decoraco.\n",
        "    - In state \"AC\" are moveis_decoracao, esporte_lazer, informatica_acessorios.\n",
        "  - This information can be used as a reference for managing information on the availability of goods in the warehouse in order to balance between stock and high demand."
      ]
    }
  ],
  "metadata": {
    "colab": {
      "provenance": []
    },
    "kernelspec": {
      "display_name": "Python 3",
      "language": "python",
      "name": "python3"
    },
    "language_info": {
      "codemirror_mode": {
        "name": "ipython",
        "version": 3
      },
      "file_extension": ".py",
      "mimetype": "text/x-python",
      "name": "python",
      "nbconvert_exporter": "python",
      "pygments_lexer": "ipython3",
      "version": "3.11.4"
    },
    "orig_nbformat": 4,
    "vscode": {
      "interpreter": {
        "hash": "972b3bf27e332e87b5379f2791f6ef9dfc79c71018c370b0d7423235e20fe4d7"
      }
    }
  },
  "nbformat": 4,
  "nbformat_minor": 0
}
